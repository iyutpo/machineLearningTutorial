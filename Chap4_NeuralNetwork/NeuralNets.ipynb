{
 "cells": [
  {
   "cell_type": "code",
   "execution_count": null,
   "metadata": {},
   "outputs": [],
   "source": []
  },
  {
   "cell_type": "code",
   "execution_count": 255,
   "metadata": {},
   "outputs": [],
   "source": [
    "import numpy as np"
   ]
  },
  {
   "cell_type": "code",
   "execution_count": 256,
   "metadata": {},
   "outputs": [],
   "source": [
    "def sigmoid(z):\n",
    "    return 1/(1 + np.exp(-z))"
   ]
  },
  {
   "cell_type": "markdown",
   "metadata": {},
   "source": [
    "#### Calculate cost function:\n",
    "\n",
    "$J = \\frac{1}{m} \\sum_i -y_i log(\\hat{y}_i) - (1-y_i)log(1-\\hat{y}_i)$"
   ]
  },
  {
   "cell_type": "code",
   "execution_count": 257,
   "metadata": {},
   "outputs": [],
   "source": [
    "def cost_function(A2, Y):\n",
    "    cost = -np.sum(np.multiply(Y, np.log(A2)) + np.multiply(1-Y, np.log(1-A2)))/m\n",
    "    cost = np.squeeze(cost)\n",
    "    return cost"
   ]
  },
  {
   "cell_type": "code",
   "execution_count": 258,
   "metadata": {},
   "outputs": [
    {
     "data": {
      "text/plain": [
       "array([[0.73105858, 0.88079708, 0.95257413],\n",
       "       [0.88079708, 0.95257413, 0.98201379]])"
      ]
     },
     "execution_count": 258,
     "metadata": {},
     "output_type": "execute_result"
    }
   ],
   "source": [
    "Z = np.array([[1,2,3],[2,3,4]])\n",
    "sigmoid(Z)"
   ]
  },
  {
   "cell_type": "code",
   "execution_count": null,
   "metadata": {},
   "outputs": [],
   "source": []
  },
  {
   "cell_type": "code",
   "execution_count": 259,
   "metadata": {},
   "outputs": [],
   "source": [
    "def initialize_parameters(n_x, n_h, n_y):\n",
    "    W1 = np.random.randn(n_h, n_x)\n",
    "    b1 = np.zeros((n_h, 1))\n",
    "    W2 = np.random.randn(n_y, n_h)\n",
    "    b2 = np.zeros((n_y, 1))\n",
    "\n",
    "    params = {\n",
    "    \"W1\": W1,\n",
    "    \"b1\" : b1,\n",
    "    \"W2\": W2,\n",
    "    \"b2\" : b2\n",
    "    }\n",
    "    return params"
   ]
  },
  {
   "cell_type": "code",
   "execution_count": null,
   "metadata": {},
   "outputs": [],
   "source": []
  },
  {
   "cell_type": "code",
   "execution_count": 260,
   "metadata": {},
   "outputs": [],
   "source": [
    "def forward_propagation(X, params):\n",
    "    W1 = params['W1']\n",
    "    b1 = params['b1']\n",
    "    W2 = params['W2']\n",
    "    b2 = params['b2']\n",
    "    \n",
    "    Z1 = np.dot(W1, X) + b1\n",
    "    A1 = sigmoid(Z1)\n",
    "    Z2 = np.dot(W2, A1) + b2\n",
    "    A2 = sigmoid(Z2)\n",
    "#     print('A1.shape: ', A1.shape, 'W2.shape: ', W2.shape)\n",
    "#     print('A2.shape: ', A2.shape, 'Z2.shape: ', Z2.shape)\n",
    "    cache = {\n",
    "        'A1': A1,\n",
    "        'A2': A2\n",
    "    }\n",
    "    return A2, cache"
   ]
  },
  {
   "cell_type": "code",
   "execution_count": 261,
   "metadata": {},
   "outputs": [],
   "source": [
    "def back_propagation(X, Y, cache, params):\n",
    "    A1 = cache[\"A1\"]\n",
    "    A2 = cache[\"A2\"]\n",
    "\n",
    "    W2 = params[\"W2\"]\n",
    "\n",
    "    dZ2 = A2 - Y.T\n",
    "    dW2 = np.dot(dZ2, A1.T)/m\n",
    "    db2 = np.sum(dZ2, axis=1, keepdims=True)/m\n",
    "    dZ1 = np.multiply(np.dot(W2.T, dZ2), 1-np.power(A1, 2))\n",
    "    dW1 = np.dot(dZ1, X.T)/m\n",
    "    db1 = np.sum(dZ1, axis=1, keepdims=True)/m\n",
    "\n",
    "    grads = {\n",
    "    \"dW1\": dW1,\n",
    "    \"db1\": db1,\n",
    "    \"dW2\": dW2,\n",
    "    \"db2\": db2\n",
    "    }\n",
    "\n",
    "    return grads"
   ]
  },
  {
   "cell_type": "code",
   "execution_count": 262,
   "metadata": {},
   "outputs": [],
   "source": [
    "def update_parameters(params, grads, alpha):\n",
    "    W1 = params[\"W1\"]\n",
    "    b1 = params[\"b1\"]\n",
    "    W2 = params[\"W2\"]\n",
    "    b2 = params[\"b2\"]\n",
    "\n",
    "    dW1 = grads[\"dW1\"]\n",
    "    db1 = grads[\"db1\"]\n",
    "    dW2 = grads[\"dW2\"]\n",
    "    db2 = grads[\"db2\"]\n",
    "\n",
    "    W1 = W1 - alpha*dW1\n",
    "    b1 = b1 - alpha*db1\n",
    "    W2 = W2 - alpha*dW2\n",
    "    b2 = b2 - alpha*db2\n",
    "\n",
    "    new_params = {\n",
    "    \"W1\": W1,\n",
    "    \"W2\": W2,\n",
    "    \"b1\" : b1,\n",
    "    \"b2\" : b2\n",
    "    }\n",
    "    \n",
    "    return new_params"
   ]
  },
  {
   "cell_type": "code",
   "execution_count": 263,
   "metadata": {},
   "outputs": [],
   "source": [
    "def model(X, Y, n_x, n_h, n_y, num_of_iters, alpha):\n",
    "    params = initialize_parameters(n_x, n_h, n_y)\n",
    "\n",
    "    for i in range(0, num_of_iters+1):\n",
    "        a2, cache = forward_propagation(X, params)\n",
    "\n",
    "        cost = cost_function(a2, Y)\n",
    "        grads = back_propagation(X, Y, cache, params)\n",
    "\n",
    "        params = update_parameters(params, grads, alpha)\n",
    "\n",
    "    if(i%10 == 0):\n",
    "        print('Cost after iteration# {:d}: {:f}'.format(i, cost))\n",
    "\n",
    "    return params"
   ]
  },
  {
   "cell_type": "code",
   "execution_count": 264,
   "metadata": {},
   "outputs": [],
   "source": [
    "def predict(X, params):\n",
    "    a2, cache = forward_propagation(X, params)\n",
    "    yhat = a2\n",
    "    y_predict = []\n",
    "    for i in yhat[0]:\n",
    "        if i < 0.5: y_predict.append(0)  \n",
    "        else: y_predict.append(1) \n",
    "    return y_predict"
   ]
  },
  {
   "cell_type": "code",
   "execution_count": 265,
   "metadata": {},
   "outputs": [],
   "source": [
    "np.random.seed(2)\n",
    "# Set the hyperparameters\n",
    "n_x = 400     #No. of neurons in first layer\n",
    "n_h = 400     #No. of neurons in hidden layer\n",
    "n_y = 1     #No. of neurons in output layer\n",
    "num_of_iters = 1000\n",
    "alpha = 0.0001"
   ]
  },
  {
   "cell_type": "code",
   "execution_count": 266,
   "metadata": {},
   "outputs": [
    {
     "name": "stdout",
     "output_type": "stream",
     "text": [
      "(400, 120)\n",
      "(120, 1)\n"
     ]
    }
   ],
   "source": [
    "f = open('data.txt')\n",
    "f1 = f.readlines()\n",
    "f.close()\n",
    "\n",
    "X = []\n",
    "y = []\n",
    "for i in range(len(f1)):\n",
    "    X.append([float(j) for j in f1[i].strip('\\n').split()[:-1]])\n",
    "    y.append(float(f1[i].strip('\\n').split()[-1]))\n",
    "\n",
    "X = np.array(X).T\n",
    "y = np.array(y).reshape((-1, 1))\n",
    "m = X.shape[1]\n",
    "print(X.shape)\n",
    "print(y.shape)"
   ]
  },
  {
   "cell_type": "code",
   "execution_count": 267,
   "metadata": {},
   "outputs": [
    {
     "name": "stdout",
     "output_type": "stream",
     "text": [
      "Cost after iteration# 1000: 121.709290\n"
     ]
    }
   ],
   "source": [
    "parameters = model(X, y, n_x, n_h, n_y, num_of_iters, alpha)"
   ]
  },
  {
   "cell_type": "code",
   "execution_count": 269,
   "metadata": {},
   "outputs": [
    {
     "name": "stdout",
     "output_type": "stream",
     "text": [
      "yhat:  [[1.94035573e-04 2.13692335e-02 1.32868496e-04 1.04687447e-01\n",
      "  1.09955180e-02 5.34745143e-06 7.84800464e-03 2.57470792e-01\n",
      "  8.43942499e-01 2.80943650e-02 1.30308659e-01 5.86033177e-01\n",
      "  2.57470792e-01 3.42904842e-02 2.69216411e-01 3.63989369e-05\n",
      "  1.28762370e-02 1.51863217e-01 4.63807961e-01 4.72164534e-01\n",
      "  1.09842739e-03 1.11753092e-04 2.13692335e-02 3.35216209e-01\n",
      "  8.52490076e-02 4.72164534e-01 1.09955180e-02 7.26469874e-05\n",
      "  1.51801564e-02 6.77041213e-03 6.36471719e-04 7.26469874e-05\n",
      "  1.09955180e-02 2.70056813e-03 1.18497002e-01 4.06646845e-02\n",
      "  9.78492504e-01 2.75615081e-01 2.57470792e-01 2.63509963e-01\n",
      "  4.04110153e-03 4.63807961e-01 1.58852572e-02 1.04413907e-02\n",
      "  1.32868496e-04 9.16880320e-03 1.18497002e-01 7.26469874e-05\n",
      "  6.77041213e-03 9.37628682e-01 4.09992221e-04 2.69216411e-01\n",
      "  5.84038745e-02 2.59362717e-01 1.58852572e-02 2.55294516e-05\n",
      "  6.99592294e-06 4.19012687e-01 3.35216209e-01 2.59362717e-01\n",
      "  2.63509963e-01 4.63807961e-01 2.80943650e-02 1.48563214e-01\n",
      "  1.00027475e-05 2.57178020e-02 9.23605363e-01 2.12844699e-03\n",
      "  2.69216411e-01 9.26893520e-03 2.80943650e-02 2.14242386e-01\n",
      "  6.83173453e-02 1.04413907e-02 5.28377178e-03 1.03700678e-02\n",
      "  1.09842739e-03 4.81826915e-01 2.86163172e-01 4.92119504e-06\n",
      "  5.28377178e-03 2.57470792e-01 1.51863217e-01 6.83173453e-02\n",
      "  9.25408888e-01 9.26893520e-03 9.78398969e-01 5.28377178e-03\n",
      "  1.58852572e-02 5.23747090e-01 3.79435158e-01 6.99592294e-06\n",
      "  1.00027475e-05 8.43942499e-01 9.22049747e-01 1.28762370e-02\n",
      "  9.26893520e-03 7.19811234e-03 6.77041213e-03 2.14242386e-01\n",
      "  5.52133832e-02 9.99387494e-01 7.84800464e-03 4.81826915e-01\n",
      "  7.84800464e-03 1.51801564e-02 7.84800464e-03 1.58852572e-02\n",
      "  7.84800464e-03 1.04687447e-01 9.70127140e-01 5.28377178e-03\n",
      "  1.09955180e-02 7.26469874e-05 4.09992221e-04 5.83984047e-02\n",
      "  3.80212636e-03 2.59362717e-01 9.99387494e-01 6.36471719e-04]] (1, 120)\n"
     ]
    }
   ],
   "source": [
    "y_predict = predict(X, parameters)"
   ]
  },
  {
   "cell_type": "code",
   "execution_count": 271,
   "metadata": {},
   "outputs": [
    {
     "data": {
      "text/plain": [
       "array([[0.],\n",
       "       [0.],\n",
       "       [0.],\n",
       "       [1.],\n",
       "       [1.],\n",
       "       [0.],\n",
       "       [0.],\n",
       "       [0.],\n",
       "       [1.],\n",
       "       [0.],\n",
       "       [0.],\n",
       "       [1.],\n",
       "       [0.],\n",
       "       [0.],\n",
       "       [0.],\n",
       "       [0.],\n",
       "       [0.],\n",
       "       [1.],\n",
       "       [0.],\n",
       "       [0.],\n",
       "       [0.],\n",
       "       [0.],\n",
       "       [0.],\n",
       "       [0.],\n",
       "       [0.],\n",
       "       [0.],\n",
       "       [1.],\n",
       "       [0.],\n",
       "       [0.],\n",
       "       [1.],\n",
       "       [0.],\n",
       "       [0.],\n",
       "       [1.],\n",
       "       [0.],\n",
       "       [0.],\n",
       "       [0.],\n",
       "       [0.],\n",
       "       [0.],\n",
       "       [0.],\n",
       "       [0.],\n",
       "       [1.],\n",
       "       [0.],\n",
       "       [0.],\n",
       "       [0.],\n",
       "       [0.],\n",
       "       [0.],\n",
       "       [0.],\n",
       "       [0.],\n",
       "       [1.],\n",
       "       [0.],\n",
       "       [0.],\n",
       "       [0.],\n",
       "       [0.],\n",
       "       [0.],\n",
       "       [0.],\n",
       "       [0.],\n",
       "       [0.],\n",
       "       [1.],\n",
       "       [0.],\n",
       "       [0.],\n",
       "       [0.],\n",
       "       [0.],\n",
       "       [0.],\n",
       "       [0.],\n",
       "       [0.],\n",
       "       [1.],\n",
       "       [0.],\n",
       "       [0.],\n",
       "       [0.],\n",
       "       [0.],\n",
       "       [0.],\n",
       "       [0.],\n",
       "       [0.],\n",
       "       [0.],\n",
       "       [0.],\n",
       "       [0.],\n",
       "       [0.],\n",
       "       [0.],\n",
       "       [1.],\n",
       "       [0.],\n",
       "       [0.],\n",
       "       [0.],\n",
       "       [1.],\n",
       "       [0.],\n",
       "       [0.],\n",
       "       [0.],\n",
       "       [0.],\n",
       "       [0.],\n",
       "       [0.],\n",
       "       [0.],\n",
       "       [0.],\n",
       "       [0.],\n",
       "       [0.],\n",
       "       [1.],\n",
       "       [0.],\n",
       "       [0.],\n",
       "       [0.],\n",
       "       [0.],\n",
       "       [1.],\n",
       "       [0.],\n",
       "       [0.],\n",
       "       [0.],\n",
       "       [0.],\n",
       "       [0.],\n",
       "       [0.],\n",
       "       [0.],\n",
       "       [0.],\n",
       "       [0.],\n",
       "       [0.],\n",
       "       [1.],\n",
       "       [0.],\n",
       "       [0.],\n",
       "       [1.],\n",
       "       [0.],\n",
       "       [0.],\n",
       "       [0.],\n",
       "       [1.],\n",
       "       [0.],\n",
       "       [0.],\n",
       "       [0.]])"
      ]
     },
     "execution_count": 271,
     "metadata": {},
     "output_type": "execute_result"
    }
   ],
   "source": [
    "\n",
    "for i in range(len(y)):\n",
    "    if y[i] == y_predict[i]:\n",
    "        "
   ]
  },
  {
   "cell_type": "code",
   "execution_count": null,
   "metadata": {},
   "outputs": [],
   "source": []
  },
  {
   "cell_type": "code",
   "execution_count": null,
   "metadata": {},
   "outputs": [],
   "source": []
  },
  {
   "cell_type": "code",
   "execution_count": null,
   "metadata": {},
   "outputs": [],
   "source": []
  },
  {
   "cell_type": "code",
   "execution_count": null,
   "metadata": {},
   "outputs": [],
   "source": []
  },
  {
   "cell_type": "code",
   "execution_count": null,
   "metadata": {},
   "outputs": [],
   "source": []
  }
 ],
 "metadata": {
  "kernelspec": {
   "display_name": "Python 3",
   "language": "python",
   "name": "python3"
  },
  "language_info": {
   "codemirror_mode": {
    "name": "ipython",
    "version": 3
   },
   "file_extension": ".py",
   "mimetype": "text/x-python",
   "name": "python",
   "nbconvert_exporter": "python",
   "pygments_lexer": "ipython3",
   "version": "3.8.3"
  }
 },
 "nbformat": 4,
 "nbformat_minor": 4
}
