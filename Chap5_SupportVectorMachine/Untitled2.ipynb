{
 "cells": [
  {
   "cell_type": "code",
   "execution_count": null,
   "metadata": {},
   "outputs": [],
   "source": []
  },
  {
   "cell_type": "code",
   "execution_count": null,
   "metadata": {},
   "outputs": [],
   "source": []
  },
  {
   "cell_type": "code",
   "execution_count": 36,
   "metadata": {},
   "outputs": [],
   "source": [
    "import numpy as np\n",
    "import csv\n",
    "from scipy.optimize import minimize    \n",
    "from sklearn.preprocessing import StandardScaler"
   ]
  },
  {
   "cell_type": "code",
   "execution_count": 37,
   "metadata": {},
   "outputs": [],
   "source": [
    "def cost0(z):\n",
    "    '''\n",
    "    input:\n",
    "        z -> array-like list with shape of m x 1\n",
    "    output:\n",
    "        cost -> array-like list with shape of m x 1\n",
    "    '''\n",
    "    for i in range(z.shape[0]):\n",
    "        if z[i, 0] > -1:\n",
    "            z[i, 0] = z[i, 0]+1\n",
    "        else:\n",
    "            z[i, 0] = 0\n",
    "    return z      # m x 1 \n",
    "\n",
    "def cost1(z):\n",
    "    '''\n",
    "    input:\n",
    "        z -> array-like list with shape of m x 1\n",
    "    output:\n",
    "        cost -> array-like list with shape of m x 1\n",
    "    '''\n",
    "    for i in range(z.shape[0]):\n",
    "        if z[i, 0] < 1:\n",
    "            z[i, 0] = 1-z[i, 0]\n",
    "        else:\n",
    "            z[i, 0] = 0\n",
    "    return z      # m x 1 \n"
   ]
  },
  {
   "cell_type": "code",
   "execution_count": 38,
   "metadata": {},
   "outputs": [],
   "source": [
    "def loss_function(theta, x, y):\n",
    "    '''\n",
    "    input:\n",
    "        x -> m x n matrix\n",
    "        y -> m x 1 matrix\n",
    "        theta -> parameters with size of n x 1\n",
    "    output:\n",
    "        loss -> real number\n",
    "    '''\n",
    "    theta = theta.reshape((3, 1))\n",
    "    C = 5\n",
    "    t = C * np.dot(y.T, cost1(np.dot(x, theta))) + C * np.dot((1 - y).T, cost0(np.dot(x, theta))) + 0.5 * np.sum(np.square(theta[1:, 0].reshape(2, 1)), keepdims=True) \n",
    "    # m x 1 @ m * 1 = m x m\n",
    "    \n",
    "    #     loss = C * t\n",
    " #   print(t.shape)\n",
    "    return t.item()"
   ]
  },
  {
   "cell_type": "code",
   "execution_count": null,
   "metadata": {},
   "outputs": [],
   "source": []
  },
  {
   "cell_type": "code",
   "execution_count": 39,
   "metadata": {},
   "outputs": [],
   "source": [
    "def gradient_descent(x, y, theta, alpha):\n",
    "    '''\n",
    "    TODO -> complete this function\n",
    "    '''\n",
    "    partial = 0.5 * np.sum(x)\n",
    "    theta = theta - alpha * partial"
   ]
  },
  {
   "cell_type": "code",
   "execution_count": 40,
   "metadata": {},
   "outputs": [],
   "source": [
    "def load_data(filepath):\n",
    "    '''\n",
    "    input:\n",
    "        filepath -> location where your csv file is stored\n",
    "    output:\n",
    "        data -> csv data loaded (type -> 2d numpy array)\n",
    "    '''\n",
    "    data = []\n",
    "    with open(filepath, newline='') as csvfile:\n",
    "        csvfile = csv.reader(csvfile)\n",
    "        for row in csvfile:\n",
    "            data.append(row)\n",
    "    return np.array(data)"
   ]
  },
  {
   "cell_type": "code",
   "execution_count": 41,
   "metadata": {},
   "outputs": [],
   "source": [
    "def get_x_y(data):\n",
    "    x = data[:, 0:2]\n",
    "    x = np.asarray(x, dtype=np.float64, order='C')\n",
    "    x = np.concatenate((np.ones((x.shape[0], 1)), x), axis=1)\n",
    "    y = data[:, -1].reshape(-1, 1)\n",
    "    \n",
    "    string_to_int = {'Iris-setosa': 1, 'Iris-versicolor':0}\n",
    "    helper = lambda string : string_to_int[string]\n",
    "    for i in range(y.shape[0]):\n",
    "        y[i, 0] = helper(y[i,0])\n",
    "    y = np.asarray(y, dtype=np.float64, order='C')\n",
    "    scaler = StandardScaler()\n",
    "    print(scaler.fit(x))\n",
    "    xx = scaler.transform(x)\n",
    "    return xx, y"
   ]
  },
  {
   "cell_type": "code",
   "execution_count": 42,
   "metadata": {},
   "outputs": [
    {
     "name": "stdout",
     "output_type": "stream",
     "text": [
      "StandardScaler()\n"
     ]
    }
   ],
   "source": [
    "filepath = '../Chap5_SupportVectorMachine/iris.csv'\n",
    "data = load_data(filepath)\n",
    "x, y = get_x_y(data)\n",
    "theta = np.array([0, 0, 0])"
   ]
  },
  {
   "cell_type": "code",
   "execution_count": null,
   "metadata": {},
   "outputs": [],
   "source": []
  },
  {
   "cell_type": "code",
   "execution_count": 43,
   "metadata": {},
   "outputs": [
    {
     "data": {
      "text/plain": [
       "array([ 0.        , -2.90007275,  2.17144193])"
      ]
     },
     "execution_count": 43,
     "metadata": {},
     "output_type": "execute_result"
    }
   ],
   "source": [
    "res = minimize(fun=loss_function,\n",
    "                       x0=theta,\n",
    "                       args=(x, y))\n",
    "theta_opt = res.x.copy()\n",
    "theta_opt"
   ]
  },
  {
   "cell_type": "code",
   "execution_count": 44,
   "metadata": {},
   "outputs": [],
   "source": [
    "import matplotlib.pyplot as plt"
   ]
  },
  {
   "cell_type": "code",
   "execution_count": 45,
   "metadata": {},
   "outputs": [
    {
     "data": {
      "image/png": "[encoded data removed]",
      "text/plain": [
       "<Figure size 432x288 with 1 Axes>"
      ]
     },
     "metadata": {
      "needs_background": "light"
     },
     "output_type": "display_data"
    }
   ],
   "source": [
    "xx1 = [x[i][1] for i in range(len(x))]\n",
    "xx2 = [x[i][2] for i in range(len(x))]\n",
    "yy = y\n",
    "import matplotlib.lines as mlines\n",
    "fig, ax = plt.subplots()\n",
    "ax.scatter(xx1, xx2, c =yy)\n",
    "def line1(x):\n",
    "    theta1 = -3.18748275\n",
    "    theta2 = 2.15105571\n",
    "    return (1-theta1 * x) / theta2\n",
    "\n",
    "def line2(x):\n",
    "    theta1 = -3.18748275\n",
    "    theta2 = 2.15105571\n",
    "    return (-1-theta1 * x) / theta2\n",
    "\n",
    "plt.plot([-2, 2], [line1(-2), line1(2)], color='blue', linestyle=':')\n",
    "plt.plot([-2, 2], [line2(-2), line2(2)], color='red')\n",
    "plt.show()"
   ]
  },
  {
   "cell_type": "code",
   "execution_count": null,
   "metadata": {},
   "outputs": [],
   "source": []
  },
  {
   "cell_type": "code",
   "execution_count": 46,
   "metadata": {},
   "outputs": [
    {
     "name": "stderr",
     "output_type": "stream",
     "text": [
      "D:\\LANGUAGE\\Anaconda\\lib\\site-packages\\sklearn\\utils\\validation.py:63: DataConversionWarning: A column-vector y was passed when a 1d array was expected. Please change the shape of y to (n_samples, ), for example using ravel().\n",
      "  return f(*args, **kwargs)\n"
     ]
    },
    {
     "data": {
      "text/plain": [
       "SVC(C=5, kernel='linear')"
      ]
     },
     "execution_count": 46,
     "metadata": {},
     "output_type": "execute_result"
    }
   ],
   "source": [
    "from sklearn.svm import SVC\n",
    "from sklearn.metrics import accuracy_score\n",
    "clf = SVC(C=5, kernel='linear')\n",
    "clf.fit(x, y)"
   ]
  },
  {
   "cell_type": "code",
   "execution_count": 47,
   "metadata": {},
   "outputs": [
    {
     "data": {
      "text/plain": [
       "array([[ 0.        , -3.18748275,  2.15105571]])"
      ]
     },
     "execution_count": 47,
     "metadata": {},
     "output_type": "execute_result"
    }
   ],
   "source": [
    "clf.intercept_\n",
    "clf.coef_"
   ]
  },
  {
   "cell_type": "code",
   "execution_count": 48,
   "metadata": {},
   "outputs": [
    {
     "data": {
      "image/png": "[encoded data removed]",
      "text/plain": [
       "<Figure size 432x288 with 1 Axes>"
      ]
     },
     "metadata": {
      "needs_background": "light"
     },
     "output_type": "display_data"
    }
   ],
   "source": [
    "def numdif(theta, x, y):\n",
    "    gradient = np.zeros((3, 1))\n",
    "    epsilon = np.zeros((3, 1))\n",
    "    delta = 0.001\n",
    "    for i in range(gradient.shape[0]):\n",
    "        epsilon[i,0] = delta\n",
    "        gradient[i, 0] = (loss_function(theta + epsilon, x, y) - loss_function(theta - epsilon, x, y)) / (2 * delta)\n",
    "    return gradient\n",
    "num_iter = 100\n",
    "loss = []\n",
    "gradients = []\n",
    "alpha = 0.025\n",
    "theta = np.zeros((3,1))\n",
    "for i in range(num_iter):\n",
    "    loss.append(loss_function(theta, x, y))\n",
    "    gradients.append(numdif(theta, x, y))\n",
    "    theta = theta - alpha * numdif(theta, x, y)\n",
    "\n",
    "def line1(x):\n",
    "    theta1 = theta[1,0]\n",
    "    theta2 = theta[1,0]\n",
    "    return (1-theta1 * x) / theta2\n",
    "\n",
    "def line2(x):\n",
    "    theta1 = theta[1,0]\n",
    "    theta2 = theta[1,0]\n",
    "    return (-1-theta1 * x) / theta2\n",
    "\n",
    "xx1 = [x[i][1] for i in range(len(x))]\n",
    "xx2 = [x[i][2] for i in range(len(x))]\n",
    "yy = y\n",
    "fig, ax = plt.subplots()\n",
    "ax.scatter(xx1, xx2, c =yy)\n",
    "\n",
    "plt.plot([-0.2, 0.2], [line1(-0.2), line1(0.2)], color='blue', linestyle=':')\n",
    "plt.plot([-0.2, 0.2], [line2(-0.2), line2(0.2)], color='red')\n",
    "plt.show()"
   ]
  },
  {
   "cell_type": "code",
   "execution_count": null,
   "metadata": {},
   "outputs": [],
   "source": []
  },
  {
   "cell_type": "code",
   "execution_count": null,
   "metadata": {},
   "outputs": [],
   "source": []
  },
  {
   "cell_type": "code",
   "execution_count": null,
   "metadata": {},
   "outputs": [],
   "source": []
  },
  {
   "cell_type": "code",
   "execution_count": null,
   "metadata": {},
   "outputs": [],
   "source": []
  },
  {
   "cell_type": "code",
   "execution_count": null,
   "metadata": {},
   "outputs": [],
   "source": []
  }
 ],
 "metadata": {
  "kernelspec": {
   "display_name": "Python 3",
   "language": "python",
   "name": "python3"
  },
  "language_info": {
   "codemirror_mode": {
    "name": "ipython",
    "version": 3
   },
   "file_extension": ".py",
   "mimetype": "text/x-python",
   "name": "python",
   "nbconvert_exporter": "python",
   "pygments_lexer": "ipython3",
   "version": "3.7.10"
  }
 },
 "nbformat": 4,
 "nbformat_minor": 4
}
