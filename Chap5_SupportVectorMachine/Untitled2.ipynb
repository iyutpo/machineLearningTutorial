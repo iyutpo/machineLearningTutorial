{
 "cells": [
  {
   "cell_type": "code",
   "execution_count": null,
   "metadata": {},
   "outputs": [],
   "source": []
  },
  {
   "cell_type": "code",
   "execution_count": null,
   "metadata": {},
   "outputs": [],
   "source": []
  },
  {
   "cell_type": "code",
   "execution_count": 68,
   "metadata": {},
   "outputs": [],
   "source": [
    "import numpy as np\n",
    "import csv\n",
    "from scipy.optimize import minimize    \n",
    "from sklearn.preprocessing import StandardScaler"
   ]
  },
  {
   "cell_type": "code",
   "execution_count": 69,
   "metadata": {},
   "outputs": [],
   "source": [
    "def cost0(z):\n",
    "    '''\n",
    "    input:\n",
    "        z -> array-like list with shape of m x 1\n",
    "    output:\n",
    "        cost -> array-like list with shape of m x 1\n",
    "    '''\n",
    "    for i in range(z.shape[0]):\n",
    "        if z[i, 0] > -1:\n",
    "            pass\n",
    "        else:\n",
    "            z[i, 0] = 0\n",
    "    return z\n",
    "\n",
    "def cost1(z):\n",
    "    '''\n",
    "    input:\n",
    "        z -> array-like list with shape of m x 1\n",
    "    output:\n",
    "        cost -> array-like list with shape of m x 1\n",
    "    '''\n",
    "    for i in range(z.shape[0]):\n",
    "        if z[i, 0] < 1:\n",
    "            pass\n",
    "        else:\n",
    "            z[i, 0] = 0\n",
    "    return z\n"
   ]
  },
  {
   "cell_type": "code",
   "execution_count": 70,
   "metadata": {},
   "outputs": [],
   "source": [
    "def loss_function(theta, x, y):\n",
    "    '''\n",
    "    input:\n",
    "        x -> m x n matrix\n",
    "        y -> m x 1 matrix\n",
    "        theta -> parameters with size of n x 1\n",
    "    output:\n",
    "        loss -> real number\n",
    "    '''\n",
    "    theta = theta.reshape((2, 1))\n",
    "    C = 10\n",
    "    t = C * np.dot(y.T, cost1(np.dot(x, theta))) + np.dot((1 - y).T, cost0(np.dot(x, theta))) + 0.5 * np.sum(np.square(theta.reshape(2, 1)), keepdims=True) \n",
    "    # m x 1 @ m * 1 = m x m\n",
    "    \n",
    "    #     loss = C * t\n",
    " #   print(t.shape)\n",
    "    return t.item()"
   ]
  },
  {
   "cell_type": "code",
   "execution_count": null,
   "metadata": {},
   "outputs": [],
   "source": []
  },
  {
   "cell_type": "code",
   "execution_count": 71,
   "metadata": {},
   "outputs": [],
   "source": [
    "def gradient_descent(x, y, theta, alpha):\n",
    "    '''\n",
    "    TODO -> complete this function\n",
    "    '''\n",
    "    partial = 0.5 * np.sum(x)\n",
    "    theta = theta - alpha * partial"
   ]
  },
  {
   "cell_type": "code",
   "execution_count": 72,
   "metadata": {},
   "outputs": [],
   "source": [
    "def load_data(filepath):\n",
    "    '''\n",
    "    input:\n",
    "        filepath -> location where your csv file is stored\n",
    "    output:\n",
    "        data -> csv data loaded (type -> 2d numpy array)\n",
    "    '''\n",
    "    data = []\n",
    "    with open(filepath, newline='') as csvfile:\n",
    "        csvfile = csv.reader(csvfile)\n",
    "        for row in csvfile:\n",
    "            data.append(row)\n",
    "    return np.array(data)"
   ]
  },
  {
   "cell_type": "code",
   "execution_count": 73,
   "metadata": {},
   "outputs": [],
   "source": [
    "def get_x_y(data):\n",
    "    x = data[:, 0:2]\n",
    "    x = np.asarray(x, dtype=np.float64, order='C')\n",
    "#     x = np.concatenate((np.ones((x.shape[0], 1)), x), axis=1)\n",
    "    y = data[:, -1].reshape(-1, 1)\n",
    "    \n",
    "    string_to_int = {'Iris-setosa': 1, 'Iris-versicolor':0}\n",
    "    helper = lambda string : string_to_int[string]\n",
    "    for i in range(y.shape[0]):\n",
    "        y[i, 0] = helper(y[i,0])\n",
    "    y = np.asarray(y, dtype=np.float64, order='C')\n",
    "    scaler = StandardScaler()\n",
    "    print(scaler.fit(x))\n",
    "    xx = scaler.transform(x)\n",
    "    return xx, y"
   ]
  },
  {
   "cell_type": "code",
   "execution_count": 74,
   "metadata": {},
   "outputs": [
    {
     "name": "stdout",
     "output_type": "stream",
     "text": [
      "StandardScaler()\n"
     ]
    }
   ],
   "source": [
    "filepath = '../Chap5_SupportVectorMachine/iris.csv'\n",
    "data = load_data(filepath)\n",
    "x, y = get_x_y(data)\n",
    "theta = np.array([0, 0])"
   ]
  },
  {
   "cell_type": "code",
   "execution_count": 75,
   "metadata": {},
   "outputs": [
    {
     "data": {
      "text/plain": [
       "array([ 312.52006969, -324.57113055])"
      ]
     },
     "execution_count": 75,
     "metadata": {},
     "output_type": "execute_result"
    }
   ],
   "source": [
    "res = minimize(fun=loss_function,\n",
    "                       x0=theta,\n",
    "                       args=(x, y),\n",
    "                       method='TNC')\n",
    "theta_opt = res.x.copy()\n",
    "theta_opt"
   ]
  },
  {
   "cell_type": "code",
   "execution_count": 76,
   "metadata": {},
   "outputs": [],
   "source": [
    "import matplotlib.pyplot as plt"
   ]
  },
  {
   "cell_type": "code",
   "execution_count": 80,
   "metadata": {},
   "outputs": [
    {
     "data": {
      "image/png": "[encoded data removed]",
      "text/plain": [
       "<Figure size 432x288 with 1 Axes>"
      ]
     },
     "metadata": {
      "needs_background": "light"
     },
     "output_type": "display_data"
    }
   ],
   "source": [
    "xx1 = [x[i][0] for i in range(len(x))]\n",
    "xx2 = [x[i][1] for i in range(len(x))]\n",
    "yy = y\n",
    "import matplotlib.lines as mlines\n",
    "line = mlines.Line2D([0,1], [0, 1], color='red')\n",
    "transform = ax.transAxes\n",
    "line.set_transform(transform)\n",
    "fig, ax = plt.subplots()\n",
    "ax.scatter(xx1, xx2, c =yy)\n",
    "ax.add_line(line)\n",
    "plt.show()"
   ]
  },
  {
   "cell_type": "code",
   "execution_count": 82,
   "metadata": {},
   "outputs": [
    {
     "data": {
      "text/plain": [
       "array([-431.4603997 , -208.75767112, -429.40085394, -413.05218495,\n",
       "       -541.78199111, -543.84153687, -603.05757555, -415.11173071,\n",
       "       -380.35484697, -272.09280132, -417.17127647, -509.08465313,\n",
       "       -255.74413233, -490.67643837, -419.23082223, -719.55780424,\n",
       "       -543.84153687, -431.4603997 , -339.54702304, -621.4657903 ,\n",
       "       -227.16588587, -558.1306601 , -729.72783595, -304.7901393 ,\n",
       "       -509.08465313, -161.77120991, -415.11173071, -384.47393849,\n",
       "       -321.13880829, -429.40085394, -319.07926253, -227.16588587,\n",
       "       -764.48471969, -686.86046626, -272.09280132, -288.44147031,\n",
       "       -243.51455486, -272.09280132, -443.68997717, -368.1252695 ,\n",
       "       -478.44686091,   46.64239544, -570.36023756, -478.44686091,\n",
       "       -621.4657903 , -255.74413233, -621.4657903 , -476.38731515,\n",
       "       -464.15773768, -351.77660051,  651.28775388,  369.36898662,\n",
       "        667.63642287,  516.50700754,  669.69596863,  293.80427896,\n",
       "        259.04739521,  171.25311008,  653.34729964,  122.20710311,\n",
       "        471.58009209,  261.10694098,  814.77444379,  418.4149936 ,\n",
       "        183.48268755,  573.66350045,  120.14755735,  404.12587037,\n",
       "        908.7473662 ,  436.82320835,  134.43668058,  481.7501238 ,\n",
       "        765.72843681,  481.7501238 ,  559.37437722,  590.01216944,\n",
       "        810.65535226,  636.99863065,  371.42853239,  420.47453936,\n",
       "        453.17187734,  453.17187734,  404.12587037,  498.09879279,\n",
       "         26.17463493,   54.75288139,  573.66350045,  892.39869721,\n",
       "        120.14755735,  389.83674714,  326.50161694,  355.0798634 ,\n",
       "        467.46100057,  281.57470149,  310.15294795,  167.13401856,\n",
       "        230.46914876,  465.4014548 ,  201.8909023 ,  293.80427896])"
      ]
     },
     "execution_count": 82,
     "metadata": {},
     "output_type": "execute_result"
    }
   ],
   "source": [
    "a = np.array([1, 2])\n",
    "def func(a, theta):\n",
    "    return np.dot(a, theta)\n",
    "t = np.array([300, -300])\n",
    "func(x, t)"
   ]
  },
  {
   "cell_type": "code",
   "execution_count": null,
   "metadata": {},
   "outputs": [],
   "source": []
  },
  {
   "cell_type": "code",
   "execution_count": 83,
   "metadata": {},
   "outputs": [
    {
     "name": "stderr",
     "output_type": "stream",
     "text": [
      "D:\\LANGUAGE\\Anaconda\\lib\\site-packages\\sklearn\\utils\\validation.py:63: DataConversionWarning: A column-vector y was passed when a 1d array was expected. Please change the shape of y to (n_samples, ), for example using ravel().\n",
      "  return f(*args, **kwargs)\n"
     ]
    },
    {
     "data": {
      "text/plain": [
       "SVC(kernel='linear')"
      ]
     },
     "execution_count": 83,
     "metadata": {},
     "output_type": "execute_result"
    }
   ],
   "source": [
    "from sklearn.svm import SVC\n",
    "from sklearn.metrics import accuracy_score\n",
    "clf = SVC(kernel='linear')\n",
    "clf.fit(x, y)"
   ]
  },
  {
   "cell_type": "code",
   "execution_count": 86,
   "metadata": {},
   "outputs": [
    {
     "data": {
      "text/plain": [
       "array([[-1.93014264,  1.60829995]])"
      ]
     },
     "execution_count": 86,
     "metadata": {},
     "output_type": "execute_result"
    }
   ],
   "source": [
    "clf.intercept_\n",
    "clf.coef_"
   ]
  },
  {
   "cell_type": "code",
   "execution_count": null,
   "metadata": {},
   "outputs": [],
   "source": []
  },
  {
   "cell_type": "code",
   "execution_count": null,
   "metadata": {},
   "outputs": [],
   "source": []
  },
  {
   "cell_type": "code",
   "execution_count": null,
   "metadata": {},
   "outputs": [],
   "source": []
  },
  {
   "cell_type": "code",
   "execution_count": null,
   "metadata": {},
   "outputs": [],
   "source": []
  },
  {
   "cell_type": "code",
   "execution_count": null,
   "metadata": {},
   "outputs": [],
   "source": []
  },
  {
   "cell_type": "code",
   "execution_count": null,
   "metadata": {},
   "outputs": [],
   "source": []
  }
 ],
 "metadata": {
  "kernelspec": {
   "display_name": "Python 3",
   "language": "python",
   "name": "python3"
  },
  "language_info": {
   "codemirror_mode": {
    "name": "ipython",
    "version": 3
   },
   "file_extension": ".py",
   "mimetype": "text/x-python",
   "name": "python",
   "nbconvert_exporter": "python",
   "pygments_lexer": "ipython3",
   "version": "3.7.10"
  }
 },
 "nbformat": 4,
 "nbformat_minor": 4
}
