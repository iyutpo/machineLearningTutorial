{
 "cells": [
  {
   "cell_type": "code",
   "execution_count": null,
   "metadata": {},
   "outputs": [],
   "source": []
  },
  {
   "cell_type": "code",
   "execution_count": null,
   "metadata": {},
   "outputs": [],
   "source": []
  },
  {
   "cell_type": "code",
   "execution_count": 1,
   "metadata": {},
   "outputs": [],
   "source": [
    "import numpy as np\n",
    "import csv\n",
    "from scipy.optimize import minimize"
   ]
  },
  {
   "cell_type": "code",
   "execution_count": 108,
   "metadata": {},
   "outputs": [],
   "source": [
    "def cost0(z):\n",
    "    '''\n",
    "    input:\n",
    "        z -> array-like list with shape of m x 1\n",
    "    output:\n",
    "        cost -> array-like list with shape of m x 1\n",
    "    '''\n",
    "    for i in range(z.shape[0]):\n",
    "        if z[i, 0] > -1:\n",
    "            pass\n",
    "        else:\n",
    "            z[i, 0] = 0\n",
    "    return z\n",
    "\n",
    "def cost1(z):\n",
    "    '''\n",
    "    input:\n",
    "        z -> array-like list with shape of m x 1\n",
    "    output:\n",
    "        cost -> array-like list with shape of m x 1\n",
    "    '''\n",
    "    for i in range(z.shape[0]):\n",
    "        if z[i, 0] < 1:\n",
    "            pass\n",
    "        else:\n",
    "            z[i, 0] = 0\n",
    "    return z\n"
   ]
  },
  {
   "cell_type": "code",
   "execution_count": 217,
   "metadata": {},
   "outputs": [],
   "source": [
    "def loss_function(theta, x, y):\n",
    "    '''\n",
    "    input:\n",
    "        x -> m x n matrix\n",
    "        y -> m x 1 matrix\n",
    "        theta -> parameters with size of n x 1\n",
    "    output:\n",
    "        loss -> real number\n",
    "    '''\n",
    "    theta = theta.reshape((3, 1))\n",
    "    C = 10\n",
    "    t = C * np.dot(y.T, cost1(np.dot(x, theta))) + np.dot((1 - y).T, cost0(np.dot(x, theta))) + 0.5 * np.sum(np.square(theta[1:, 0].reshape(2, 1)), keepdims=True) \n",
    "    # m x 1 @ m * 1 = m x m\n",
    "    \n",
    "    #     loss = C * t\n",
    " #   print(t.shape)\n",
    "    return t.item()"
   ]
  },
  {
   "cell_type": "code",
   "execution_count": null,
   "metadata": {},
   "outputs": [],
   "source": []
  },
  {
   "cell_type": "code",
   "execution_count": 218,
   "metadata": {},
   "outputs": [],
   "source": [
    "def gradient_descent(x, y, theta, C):\n",
    "    '''\n",
    "    TODO -> complete this function\n",
    "    '''\n",
    "    pass"
   ]
  },
  {
   "cell_type": "code",
   "execution_count": 219,
   "metadata": {},
   "outputs": [],
   "source": [
    "def load_data(filepath):\n",
    "    '''\n",
    "    input:\n",
    "        filepath -> location where your csv file is stored\n",
    "    output:\n",
    "        data -> csv data loaded (type -> 2d numpy array)\n",
    "    '''\n",
    "    data = []\n",
    "    with open(filepath, newline='') as csvfile:\n",
    "        csvfile = csv.reader(csvfile)\n",
    "        for row in csvfile:\n",
    "            data.append(row)\n",
    "    return np.array(data)"
   ]
  },
  {
   "cell_type": "code",
   "execution_count": 220,
   "metadata": {},
   "outputs": [],
   "source": [
    "def get_x_y(data):\n",
    "    x = data[:, 0:2]\n",
    "    x = np.asarray(x, dtype=np.float64, order='C')\n",
    "    x = np.concatenate((np.ones((x.shape[0], 1)), x), axis=1)\n",
    "    y = data[:, -1].reshape(-1, 1)\n",
    "    \n",
    "    string_to_int = {'Iris-setosa': 1, 'Iris-versicolor':0}\n",
    "    helper = lambda string : string_to_int[string]\n",
    "    for i in range(y.shape[0]):\n",
    "        y[i, 0] = helper(y[i,0])\n",
    "    y = np.asarray(y, dtype=np.float64, order='C')\n",
    "    \n",
    "    return x, y\n",
    "    "
   ]
  },
  {
   "cell_type": "code",
   "execution_count": 223,
   "metadata": {},
   "outputs": [],
   "source": [
    "filepath = '/home/xps/work/machineLearningTutorial/Chap5_SupportVectorMachine/iris.csv'\n",
    "data = load_data(filepath)\n",
    "x, y = get_x_y(data)\n",
    "theta = np.array([0, 0, 0])\n",
    "#type(loss_function(theta, x, y))"
   ]
  },
  {
   "cell_type": "code",
   "execution_count": 224,
   "metadata": {},
   "outputs": [
    {
     "data": {
      "text/plain": [
       "array([ -723.52427378, -2601.77033562, -1568.56235333])"
      ]
     },
     "execution_count": 224,
     "metadata": {},
     "output_type": "execute_result"
    }
   ],
   "source": [
    "res = minimize(fun=loss_function,\n",
    "                       x0=theta,\n",
    "                       args=(x, y),\n",
    "                       method='TNC')\n",
    "theta_opt = res.x.copy()\n",
    "theta_opt"
   ]
  },
  {
   "cell_type": "code",
   "execution_count": null,
   "metadata": {},
   "outputs": [],
   "source": []
  },
  {
   "cell_type": "code",
   "execution_count": null,
   "metadata": {},
   "outputs": [],
   "source": []
  },
  {
   "cell_type": "code",
   "execution_count": null,
   "metadata": {},
   "outputs": [],
   "source": []
  },
  {
   "cell_type": "code",
   "execution_count": null,
   "metadata": {},
   "outputs": [],
   "source": []
  },
  {
   "cell_type": "code",
   "execution_count": null,
   "metadata": {},
   "outputs": [],
   "source": []
  },
  {
   "cell_type": "code",
   "execution_count": null,
   "metadata": {},
   "outputs": [],
   "source": []
  },
  {
   "cell_type": "code",
   "execution_count": null,
   "metadata": {},
   "outputs": [],
   "source": []
  },
  {
   "cell_type": "code",
   "execution_count": null,
   "metadata": {},
   "outputs": [],
   "source": []
  },
  {
   "cell_type": "code",
   "execution_count": null,
   "metadata": {},
   "outputs": [],
   "source": []
  },
  {
   "cell_type": "code",
   "execution_count": null,
   "metadata": {},
   "outputs": [],
   "source": []
  },
  {
   "cell_type": "code",
   "execution_count": null,
   "metadata": {},
   "outputs": [],
   "source": []
  },
  {
   "cell_type": "code",
   "execution_count": null,
   "metadata": {},
   "outputs": [],
   "source": []
  }
 ],
 "metadata": {
  "kernelspec": {
   "display_name": "Python 3",
   "language": "python",
   "name": "python3"
  },
  "language_info": {
   "codemirror_mode": {
    "name": "ipython",
    "version": 3
   },
   "file_extension": ".py",
   "mimetype": "text/x-python",
   "name": "python",
   "nbconvert_exporter": "python",
   "pygments_lexer": "ipython3",
   "version": "3.8.5"
  }
 },
 "nbformat": 4,
 "nbformat_minor": 4
}
