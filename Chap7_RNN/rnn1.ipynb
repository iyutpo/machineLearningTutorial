{
 "cells": [
  {
   "cell_type": "code",
   "execution_count": null,
   "source": [],
   "outputs": [],
   "metadata": {}
  },
  {
   "cell_type": "code",
   "execution_count": 1,
   "source": [
    "import numpy as np\r\n",
    "import tensorflow as tf\r\n",
    "from tensorflow import keras\r\n",
    "from tensorflow.keras import layers"
   ],
   "outputs": [],
   "metadata": {}
  },
  {
   "cell_type": "code",
   "execution_count": 2,
   "source": [
    "model = keras.Sequential()\r\n",
    "\r\n",
    "# add an embedding layer expecting input vocab of size 1000, and output\r\n",
    "# embedding dimension of size 64\r\n",
    "model.add(layers.Embedding(input_dim=1000, output_dim=64))\r\n",
    "\r\n",
    "# add a SLTM layer with 128 internal units\r\n",
    "model.add(layers.LSTM(128))\r\n",
    "\r\n",
    "# add a dense layer with 10 units\r\n",
    "model.add(layers.Dense(10))\r\n",
    "\r\n",
    "model.summary()"
   ],
   "outputs": [
    {
     "output_type": "stream",
     "name": "stdout",
     "text": [
      "Model: \"sequential\"\n",
      "_________________________________________________________________\n",
      "Layer (type)                 Output Shape              Param #   \n",
      "=================================================================\n",
      "embedding (Embedding)        (None, None, 64)          64000     \n",
      "_________________________________________________________________\n",
      "lstm (LSTM)                  (None, 128)               98816     \n",
      "_________________________________________________________________\n",
      "dense (Dense)                (None, 10)                1290      \n",
      "=================================================================\n",
      "Total params: 164,106\n",
      "Trainable params: 164,106\n",
      "Non-trainable params: 0\n",
      "_________________________________________________________________\n"
     ]
    }
   ],
   "metadata": {}
  },
  {
   "cell_type": "code",
   "execution_count": 4,
   "source": [
    "encoder_vocab = 1000\r\n",
    "decoder_vocab = 2000\r\n",
    "\r\n",
    "encoder_input = layers.Input(shape=(None,))\r\n",
    "encoder_embedded = layers.Embedding(input_dim=encoder_vocab, output_dim=64)(\r\n",
    "    encoder_input\r\n",
    ")\r\n",
    "\r\n",
    "output, state_h, state_c = layers.LSTM(64, return_state=True, name=\"encoder\")(\r\n",
    "    encoder_embedded\r\n",
    ")\r\n",
    "\r\n",
    "encoder_state = [state_h, state_c]\r\n",
    "\r\n",
    "decoder_input = layers.Input(shape=(None,))\r\n",
    "decoder_embedded = layers.Embedding(input_dim=decoder_vocab, output_dim=64)(\r\n",
    "    decoder_input\r\n",
    ")\r\n",
    "\r\n",
    "# Pass the 2 states to a new LSTM layer, as initial state\r\n",
    "decoder_output = layers.LSTM(64, name=\"decoder\")(\r\n",
    "    decoder_embedded, initial_state=encoder_state\r\n",
    ")\r\n",
    "output = layers.Dense(10)(decoder_output)\r\n",
    "\r\n",
    "model = keras.Model([encoder_input, decoder_input], output)\r\n",
    "model.summary()"
   ],
   "outputs": [
    {
     "output_type": "stream",
     "name": "stdout",
     "text": [
      "Model: \"functional_1\"\n",
      "__________________________________________________________________________________________________\n",
      "Layer (type)                    Output Shape         Param #     Connected to                     \n",
      "==================================================================================================\n",
      "input_2 (InputLayer)            [(None, None)]       0                                            \n",
      "__________________________________________________________________________________________________\n",
      "input_3 (InputLayer)            [(None, None)]       0                                            \n",
      "__________________________________________________________________________________________________\n",
      "embedding_2 (Embedding)         (None, None, 64)     64000       input_2[0][0]                    \n",
      "__________________________________________________________________________________________________\n",
      "embedding_3 (Embedding)         (None, None, 64)     128000      input_3[0][0]                    \n",
      "__________________________________________________________________________________________________\n",
      "encoder (LSTM)                  [(None, 64), (None,  33024       embedding_2[0][0]                \n",
      "__________________________________________________________________________________________________\n",
      "decoder (LSTM)                  (None, 64)           33024       embedding_3[0][0]                \n",
      "                                                                 encoder[0][1]                    \n",
      "                                                                 encoder[0][2]                    \n",
      "__________________________________________________________________________________________________\n",
      "dense_1 (Dense)                 (None, 10)           650         decoder[0][0]                    \n",
      "==================================================================================================\n",
      "Total params: 258,698\n",
      "Trainable params: 258,698\n",
      "Non-trainable params: 0\n",
      "__________________________________________________________________________________________________\n"
     ]
    }
   ],
   "metadata": {}
  },
  {
   "cell_type": "code",
   "execution_count": 6,
   "source": [
    "paragraph1 = np.random.random((20, 10, 50)).astype(np.float32)\r\n",
    "paragraph2 = np.random.random((20, 10, 50)).astype(np.float32)\r\n",
    "paragraph3 = np.random.random((20, 10, 50)).astype(np.float32)\r\n",
    "\r\n",
    "lstm_layer = layers.LSTM(64, stateful=True)\r\n",
    "output = lstm_layer(paragraph1)\r\n",
    "output = lstm_layer(paragraph2)\r\n",
    "output = lstm_layer(paragraph3)\r\n",
    "\r\n",
    "# reset_states() will reset the cached state to the original initial_state.\r\n",
    "# If no initial_state was provided, zero-states will be used by default.\r\n",
    "lstm_layer.reset_states()"
   ],
   "outputs": [],
   "metadata": {}
  },
  {
   "cell_type": "code",
   "execution_count": 7,
   "source": [
    "paragraph1 = np.random.random((20, 10, 50)).astype(np.float32)\r\n",
    "paragraph2 = np.random.random((20, 10, 50)).astype(np.float32)\r\n",
    "paragraph3 = np.random.random((20, 10, 50)).astype(np.float32)\r\n",
    "\r\n",
    "lstm_layer = layers.LSTM(64, stateful=True)\r\n",
    "output = lstm_layer(paragraph1)\r\n",
    "output = lstm_layer(paragraph2)\r\n",
    "\r\n",
    "existing_state = lstm_layer.states\r\n",
    "\r\n",
    "new_lstm_layer = layers.LSTM(64)\r\n",
    "new_output = new_lstm_layer(paragraph3, initial_state=existing_state)"
   ],
   "outputs": [],
   "metadata": {}
  },
  {
   "cell_type": "code",
   "execution_count": 8,
   "source": [
    "model = keras.Sequential()\r\n",
    "\r\n",
    "model.add(\r\n",
    "    layers.Bidirectional(layers.LSTM(64, return_sequences=True), input_shape=(5, 10))\r\n",
    ")\r\n",
    "model.add(layers.Bidirectional(layers.LSTM(32)))\r\n",
    "model.add(layers.Dense(10))\r\n",
    "\r\n",
    "model.summary()"
   ],
   "outputs": [
    {
     "output_type": "stream",
     "name": "stdout",
     "text": [
      "Model: \"sequential_1\"\n",
      "_________________________________________________________________\n",
      "Layer (type)                 Output Shape              Param #   \n",
      "=================================================================\n",
      "bidirectional (Bidirectional (None, 5, 128)            38400     \n",
      "_________________________________________________________________\n",
      "bidirectional_1 (Bidirection (None, 64)                41216     \n",
      "_________________________________________________________________\n",
      "dense_2 (Dense)              (None, 10)                650       \n",
      "=================================================================\n",
      "Total params: 80,266\n",
      "Trainable params: 80,266\n",
      "Non-trainable params: 0\n",
      "_________________________________________________________________\n"
     ]
    }
   ],
   "metadata": {}
  },
  {
   "cell_type": "code",
   "execution_count": 9,
   "source": [
    "batch_size = 64\r\n",
    "# Each MNIST image batch is a tensor of shape (batch_size, 28, 28).\r\n",
    "# Each input sequence will be of size (28, 28) (height is treated like time).\r\n",
    "input_dim = 28\r\n",
    "\r\n",
    "units = 64\r\n",
    "output_size = 10  # labels are from 0 to 9\r\n",
    "\r\n",
    "# Build the RNN model\r\n",
    "def build_model(allow_cudnn_kernel=True):\r\n",
    "    # CuDNN is only available at the layer level, and not at the cell level.\r\n",
    "    # This means `LSTM(units)` will use the CuDNN kernel,\r\n",
    "    # while RNN(LSTMCell(units)) will run on non-CuDNN kernel.\r\n",
    "    if allow_cudnn_kernel:\r\n",
    "        # The LSTM layer with default options uses CuDNN.\r\n",
    "        lstm_layer = keras.layers.LSTM(units, input_shape=(None, input_dim))\r\n",
    "    else:\r\n",
    "        # Wrapping a LSTMCell in a RNN layer will not use CuDNN.\r\n",
    "        lstm_layer = keras.layers.RNN(\r\n",
    "            keras.layers.LSTMCell(units), input_shape=(None, input_dim)\r\n",
    "        )\r\n",
    "    model = keras.models.Sequential(\r\n",
    "        [\r\n",
    "            lstm_layer,\r\n",
    "            keras.layers.BatchNormalization(),\r\n",
    "            keras.layers.Dense(output_size),\r\n",
    "        ]\r\n",
    "    )\r\n",
    "    return model\r\n",
    "    "
   ],
   "outputs": [],
   "metadata": {}
  },
  {
   "cell_type": "code",
   "execution_count": 11,
   "source": [
    "mnist = keras.datasets.mnist\r\n",
    "\r\n",
    "(x_train, y_train), (x_test, y_test) = mnist.load_data()\r\n",
    "x_train, x_test = x_train / 255.0, x_test / 255.0\r\n",
    "sample, sample_label = x_train[0], y_train[0]"
   ],
   "outputs": [
    {
     "output_type": "stream",
     "name": "stdout",
     "text": [
      "Downloading data from https://storage.googleapis.com/tensorflow/tf-keras-datasets/mnist.npz\n",
      "11493376/11490434 [==============================] - 4s 0us/step\n"
     ]
    }
   ],
   "metadata": {}
  },
  {
   "cell_type": "code",
   "execution_count": 12,
   "source": [
    "model = build_model(allow_cudnn_kernel=True)\r\n",
    "\r\n",
    "model.compile(\r\n",
    "    loss=keras.losses.SparseCategoricalCrossentropy(from_logits=True),\r\n",
    "    optimizer=\"sgd\",\r\n",
    "    metrics=[\"accuracy\"],\r\n",
    ")\r\n",
    "\r\n",
    "\r\n",
    "model.fit(\r\n",
    "    x_train, y_train, validation_data=(x_test, y_test), batch_size=batch_size, epochs=1\r\n",
    ")"
   ],
   "outputs": [
    {
     "output_type": "stream",
     "name": "stdout",
     "text": [
      "938/938 [==============================] - 17s 18ms/step - loss: 0.9184 - accuracy: 0.7108 - val_loss: 0.5053 - val_accuracy: 0.8433\n"
     ]
    },
    {
     "output_type": "execute_result",
     "data": {
      "text/plain": [
       "<tensorflow.python.keras.callbacks.History at 0x2b751238788>"
      ]
     },
     "metadata": {},
     "execution_count": 12
    }
   ],
   "metadata": {}
  },
  {
   "cell_type": "code",
   "execution_count": 13,
   "source": [
    "noncudnn_model = build_model(allow_cudnn_kernel=False)\r\n",
    "noncudnn_model.set_weights(model.get_weights())\r\n",
    "noncudnn_model.compile(\r\n",
    "    loss=keras.losses.SparseCategoricalCrossentropy(from_logits=True),\r\n",
    "    optimizer=\"sgd\",\r\n",
    "    metrics=[\"accuracy\"],\r\n",
    ")\r\n",
    "noncudnn_model.fit(\r\n",
    "    x_train, y_train, validation_data=(x_test, y_test), batch_size=batch_size, epochs=1\r\n",
    ")"
   ],
   "outputs": [
    {
     "output_type": "stream",
     "name": "stdout",
     "text": [
      "938/938 [==============================] - 16s 17ms/step - loss: 0.3821 - accuracy: 0.8833 - val_loss: 0.3248 - val_accuracy: 0.8985\n"
     ]
    },
    {
     "output_type": "execute_result",
     "data": {
      "text/plain": [
       "<tensorflow.python.keras.callbacks.History at 0x2b753c9fb48>"
      ]
     },
     "metadata": {},
     "execution_count": 13
    }
   ],
   "metadata": {}
  },
  {
   "cell_type": "code",
   "execution_count": 14,
   "source": [
    "noncudnn_model = build_model(allow_cudnn_kernel=False)\r\n",
    "noncudnn_model.set_weights(model.get_weights())\r\n",
    "noncudnn_model.compile(\r\n",
    "    loss=keras.losses.SparseCategoricalCrossentropy(from_logits=True),\r\n",
    "    optimizer=\"sgd\",\r\n",
    "    metrics=[\"accuracy\"],\r\n",
    ")\r\n",
    "noncudnn_model.fit(\r\n",
    "    x_train, y_train, validation_data=(x_test, y_test), batch_size=batch_size, epochs=1\r\n",
    ")"
   ],
   "outputs": [
    {
     "output_type": "stream",
     "name": "stdout",
     "text": [
      "938/938 [==============================] - 16s 17ms/step - loss: 0.3808 - accuracy: 0.8834 - val_loss: 0.4520 - val_accuracy: 0.8478\n"
     ]
    },
    {
     "output_type": "execute_result",
     "data": {
      "text/plain": [
       "<tensorflow.python.keras.callbacks.History at 0x2b76e72a608>"
      ]
     },
     "metadata": {},
     "execution_count": 14
    }
   ],
   "metadata": {}
  },
  {
   "cell_type": "code",
   "execution_count": 15,
   "source": [
    "import matplotlib.pyplot as plt\r\n",
    "\r\n",
    "with tf.device(\"CPU:0\"):\r\n",
    "    cpu_model = build_model(allow_cudnn_kernel=True)\r\n",
    "    cpu_model.set_weights(model.get_weights())\r\n",
    "    result = tf.argmax(cpu_model.predict_on_batch(tf.expand_dims(sample, 0)), axis=1)\r\n",
    "    print(\r\n",
    "        \"Predicted result is: %s, target result is: %s\" % (result.numpy(), sample_label)\r\n",
    "    )\r\n",
    "    plt.imshow(sample, cmap=plt.get_cmap(\"gray\"))"
   ],
   "outputs": [
    {
     "output_type": "stream",
     "name": "stdout",
     "text": [
      "Predicted result is: [3], target result is: 5\n"
     ]
    },
    {
     "output_type": "display_data",
     "data": {
      "text/plain": [
       "<Figure size 432x288 with 1 Axes>"
      ],
      "image/png": "[encoded data removed]"
     },
     "metadata": {
      "needs_background": "light"
     }
    }
   ],
   "metadata": {}
  },
  {
   "cell_type": "code",
   "execution_count": 16,
   "source": [
    "class NestedCell(keras.layers.Layer):\r\n",
    "    def __init__(self, unit_1, unit_2, unit_3, **kwargs):\r\n",
    "        self.unit_1 = unit_1\r\n",
    "        self.unit_2 = unit_2\r\n",
    "        self.unit_3 = unit_3\r\n",
    "        self.state_size = [tf.TensorShape([unit_1]), tf.TensorShape([unit_2, unit_3])]\r\n",
    "        self.output_size = [tf.TensorShape([unit_1]), tf.TensorShape([unit_2, unit_3])]\r\n",
    "        super(NestedCell, self).__init__(**kwargs)\r\n",
    "\r\n",
    "    def build(self, input_shapes):\r\n",
    "        # expect input_shape to contain 2 items, [(batch, i1), (batch, i2, i3)]\r\n",
    "        i1 = input_shapes[0][1]\r\n",
    "        i2 = input_shapes[1][1]\r\n",
    "        i3 = input_shapes[1][2]\r\n",
    "\r\n",
    "        self.kernel_1 = self.add_weight(\r\n",
    "            shape=(i1, self.unit_1), initializer=\"uniform\", name=\"kernel_1\"\r\n",
    "        )\r\n",
    "        self.kernel_2_3 = self.add_weight(\r\n",
    "            shape=(i2, i3, self.unit_2, self.unit_3),\r\n",
    "            initializer=\"uniform\",\r\n",
    "            name=\"kernel_2_3\",\r\n",
    "        )\r\n",
    "\r\n",
    "    def call(self, inputs, states):\r\n",
    "        # inputs should be in [(batch, input_1), (batch, input_2, input_3)]\r\n",
    "        # state should be in shape [(batch, unit_1), (batch, unit_2, unit_3)]\r\n",
    "        input_1, input_2 = tf.nest.flatten(inputs)\r\n",
    "        s1, s2 = states\r\n",
    "\r\n",
    "        output_1 = tf.matmul(input_1, self.kernel_1)\r\n",
    "        output_2_3 = tf.einsum(\"bij,ijkl->bkl\", input_2, self.kernel_2_3)\r\n",
    "        state_1 = s1 + output_1\r\n",
    "        state_2_3 = s2 + output_2_3\r\n",
    "\r\n",
    "        output = (output_1, output_2_3)\r\n",
    "        new_states = (state_1, state_2_3)\r\n",
    "\r\n",
    "        return output, new_states\r\n",
    "\r\n",
    "    def get_config(self):\r\n",
    "        return {\"unit_1\": self.unit_1, \"unit_2\": unit_2, \"unit_3\": self.unit_3}"
   ],
   "outputs": [],
   "metadata": {}
  },
  {
   "cell_type": "code",
   "execution_count": 17,
   "source": [
    "unit_1 = 10\r\n",
    "unit_2 = 20\r\n",
    "unit_3 = 30\r\n",
    "\r\n",
    "i1 = 32\r\n",
    "i2 = 64\r\n",
    "i3 = 32\r\n",
    "batch_size = 64\r\n",
    "num_batches = 10\r\n",
    "timestep = 50\r\n",
    "\r\n",
    "cell = NestedCell(unit_1, unit_2, unit_3)\r\n",
    "rnn = keras.layers.RNN(cell)\r\n",
    "\r\n",
    "input_1 = keras.Input((None, i1))\r\n",
    "input_2 = keras.Input((None, i2, i3))\r\n",
    "\r\n",
    "outputs = rnn((input_1, input_2))\r\n",
    "\r\n",
    "model = keras.models.Model([input_1, input_2], outputs)\r\n",
    "\r\n",
    "model.compile(optimizer=\"adam\", loss=\"mse\", metrics=[\"accuracy\"])"
   ],
   "outputs": [],
   "metadata": {}
  },
  {
   "cell_type": "code",
   "execution_count": 18,
   "source": [
    "input_1_data = np.random.random((batch_size * num_batches, timestep, i1))\r\n",
    "input_2_data = np.random.random((batch_size * num_batches, timestep, i2, i3))\r\n",
    "target_1_data = np.random.random((batch_size * num_batches, unit_1))\r\n",
    "target_2_data = np.random.random((batch_size * num_batches, unit_2, unit_3))\r\n",
    "input_data = [input_1_data, input_2_data]\r\n",
    "target_data = [target_1_data, target_2_data]\r\n",
    "\r\n",
    "model.fit(input_data, target_data, batch_size=batch_size)"
   ],
   "outputs": [
    {
     "output_type": "stream",
     "name": "stdout",
     "text": [
      "10/10 [==============================] - 3s 338ms/step - loss: 0.7372 - rnn_2_loss: 0.2576 - rnn_2_1_loss: 0.4796 - rnn_2_accuracy: 0.0828 - rnn_2_1_accuracy: 0.0325\n"
     ]
    },
    {
     "output_type": "execute_result",
     "data": {
      "text/plain": [
       "<tensorflow.python.keras.callbacks.History at 0x2b775571588>"
      ]
     },
     "metadata": {},
     "execution_count": 18
    }
   ],
   "metadata": {}
  },
  {
   "cell_type": "code",
   "execution_count": null,
   "source": [],
   "outputs": [],
   "metadata": {}
  },
  {
   "cell_type": "code",
   "execution_count": null,
   "source": [],
   "outputs": [],
   "metadata": {}
  },
  {
   "cell_type": "code",
   "execution_count": null,
   "source": [],
   "outputs": [],
   "metadata": {}
  },
  {
   "cell_type": "code",
   "execution_count": null,
   "source": [],
   "outputs": [],
   "metadata": {}
  }
 ],
 "metadata": {
  "orig_nbformat": 4,
  "language_info": {
   "name": "python",
   "version": "3.7.10",
   "mimetype": "text/x-python",
   "codemirror_mode": {
    "name": "ipython",
    "version": 3
   },
   "pygments_lexer": "ipython3",
   "nbconvert_exporter": "python",
   "file_extension": ".py"
  },
  "kernelspec": {
   "name": "python3",
   "display_name": "Python 3.7.10 64-bit ('base': conda)"
  },
  "interpreter": {
   "hash": "f172a61c9819e3b9a15cd7d1a6619a94a899f307d3b0fe30023c820030bbfe23"
  }
 },
 "nbformat": 4,
 "nbformat_minor": 2
}