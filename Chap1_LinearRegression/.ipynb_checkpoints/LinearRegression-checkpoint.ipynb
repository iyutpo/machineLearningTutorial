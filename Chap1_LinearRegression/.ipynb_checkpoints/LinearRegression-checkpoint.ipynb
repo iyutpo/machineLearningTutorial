{
 "cells": [
  {
   "cell_type": "code",
   "execution_count": null,
   "metadata": {},
   "outputs": [],
   "source": []
  },
  {
   "cell_type": "code",
   "execution_count": 1,
   "metadata": {},
   "outputs": [],
   "source": [
    "import numpy as np\n",
    "import matplotlib.pyplot as plt"
   ]
  },
  {
   "cell_type": "code",
   "execution_count": 13,
   "metadata": {},
   "outputs": [
    {
     "data": {
      "image/png": "[encoded data removed]",
      "text/plain": [
       "<Figure size 432x288 with 1 Axes>"
      ]
     },
     "metadata": {
      "needs_background": "light"
     },
     "output_type": "display_data"
    }
   ],
   "source": [
    "class LinearRegression():\n",
    "    def __init__(self, alpha=0.05, n_iters=2000, x=None, y=None, theta0=1, theta1=1):\n",
    "        self.alpha = alpha\n",
    "        self.n_iters = n_iters\n",
    "        self.x = x\n",
    "        self.y = y\n",
    "        self.theta0 = theta0\n",
    "        self.theta1 = theta1\n",
    "\n",
    "    def _calculate_cost_function(self, x, y, theta0, theta1):\n",
    "        m = len(x)\n",
    "        cost = 0\n",
    "        for i in range(m):\n",
    "            cost += (x[i] * theta1 + theta0 - y[i]) ** 2\n",
    "        return 1 / 2 / m * cost\n",
    "\n",
    "    def _gradient_descent(self, x, y, theta0, theta1, n_iters):\n",
    "        costs, m = [0 for _ in range(n_iters)], len(x)\n",
    "        for j in range(n_iters):\n",
    "            sum_gradient0, sum_gradient1 = 0, 0\n",
    "            for i in range(m):\n",
    "                sum_gradient0 += (x[i] * theta1 + theta0 - y[i])\n",
    "                sum_gradient1 += (x[i] * theta1 + theta0 - y[i]) * x[i]\n",
    "            theta0 = theta0 - self.alpha / m * sum_gradient0\n",
    "            theta1 = theta1 - self.alpha / m * sum_gradient1\n",
    "            costs.append(self._calculate_cost_function(x, y, theta0, theta1))\n",
    "        return costs[-1], theta0, theta1\n",
    "\n",
    "    def _standardization(self, x):\n",
    "        mu = np.mean(x)\n",
    "        sigma = np.std(x)\n",
    "        standardized_x = (x - mu) / sigma\n",
    "        return standardized_x\n",
    "\n",
    "    def _de_standardization(self, theta0, theta1, x):\n",
    "        mu = np.mean(x)\n",
    "        sigma = np.std(x)\n",
    "        theta0 = theta0 - theta1 * mu / sigma\n",
    "        theta1 = theta1 / sigma \n",
    "        return theta0, theta1\n",
    "\n",
    "    def fit(self, x, y, theta0, theta1, n_iters):\n",
    "        # fit function is supposed to return y_hat\n",
    "        standardized_x = self._standardization(x)\n",
    "        cost, theta0, theta1 = self._gradient_descent(x=standardized_x, y=y, \n",
    "                                                     theta0=theta0, theta1=theta1, \n",
    "                                                     n_iters=n_iters)\n",
    "        theta0, theta1 = self._de_standardization(theta0, theta1, x)\n",
    "        y_hat = theta1 * x + theta0\n",
    "        return y_hat\n",
    "\n",
    "\n",
    "if __name__ == \"__main__\":\n",
    "    x = np.array([68, 60, 51, 43, 31])\n",
    "    y = np.array([37.49, 36.46, 67.28, 93.75, 140.22])\n",
    "    t = LinearRegression(alpha=0.003, x=x, y=y)\n",
    "    y_hat = t.fit(x, y, 1, 1, n_iters=2000)\n",
    "    plt.plot(x, y_hat)\n",
    "    plt.scatter(x, y)"
   ]
  },
  {
   "cell_type": "code",
   "execution_count": null,
   "metadata": {},
   "outputs": [],
   "source": []
  },
  {
   "cell_type": "code",
   "execution_count": null,
   "metadata": {},
   "outputs": [],
   "source": []
  },
  {
   "cell_type": "code",
   "execution_count": null,
   "metadata": {},
   "outputs": [],
   "source": []
  },
  {
   "cell_type": "code",
   "execution_count": null,
   "metadata": {},
   "outputs": [],
   "source": []
  },
  {
   "cell_type": "code",
   "execution_count": null,
   "metadata": {},
   "outputs": [],
   "source": []
  },
  {
   "cell_type": "code",
   "execution_count": null,
   "metadata": {},
   "outputs": [],
   "source": []
  },
  {
   "cell_type": "code",
   "execution_count": null,
   "metadata": {},
   "outputs": [],
   "source": []
  },
  {
   "cell_type": "code",
   "execution_count": null,
   "metadata": {},
   "outputs": [],
   "source": []
  }
 ],
 "metadata": {
  "kernelspec": {
   "display_name": "Python 3",
   "language": "python",
   "name": "python3"
  },
  "language_info": {
   "codemirror_mode": {
    "name": "ipython",
    "version": 3
   },
   "file_extension": ".py",
   "mimetype": "text/x-python",
   "name": "python",
   "nbconvert_exporter": "python",
   "pygments_lexer": "ipython3",
   "version": "3.8.3"
  }
 },
 "nbformat": 4,
 "nbformat_minor": 4
}
