{
 "cells": [
  {
   "cell_type": "code",
   "execution_count": null,
   "metadata": {},
   "outputs": [],
   "source": []
  },
  {
   "cell_type": "code",
   "execution_count": 1,
   "metadata": {},
   "outputs": [],
   "source": [
    "#PYTHONPATH\n",
    "import numpy as np\n",
    "import matplotlib.pyplot as plt"
   ]
  },
  {
   "cell_type": "markdown",
   "metadata": {},
   "source": [
    "### Calculate Cost Function\n",
    "$J(\\theta) = \\frac{1}{2m} \\sum_{i=1}^m (h(x^{(i)}) - y^{(i)})^2$"
   ]
  },
  {
   "cell_type": "code",
   "execution_count": 2,
   "metadata": {},
   "outputs": [],
   "source": [
    "def calculate_cost_function(x, y, theta0, theta1):\n",
    "    m = len(x)\n",
    "    cost = 0\n",
    "    for i in range(m):\n",
    "        cost += (x[i] * theta1 + theta0 - y[i]) ** 2\n",
    "    return 1 / 2 / m * cost"
   ]
  },
  {
   "cell_type": "markdown",
   "metadata": {},
   "source": [
    "### Gradient Descent Algorithm\n",
    "$\\theta_i := \\theta_i - \\alpha \\frac{\\partial J} { \\partial \\theta_i}$\n",
    "\n",
    "$\\theta = [\\theta_0, \\theta_1]$\n",
    "\n",
    "$J(\\theta) = \\frac{1}{2m} \\sum_{i=1}^m (h(x^{(i)}) - y^{(i)})^2$\n",
    "\n",
    "$\\theta_1  := \\theta_1 - \\alpha \\frac{1}{m} \\sum_{i=1}^{m} (h(x^{(i)})-y^{(i)})x_1^{(i)}$\n",
    "\n",
    "$\\theta_0  := \\theta_0 - \\alpha \\frac{1}{m} \\sum_{i=1}^{m} (h(x^{(i)})-y^{(i)})x_0^{(i)}$"
   ]
  },
  {
   "cell_type": "code",
   "execution_count": 3,
   "metadata": {},
   "outputs": [],
   "source": [
    "def gradient_descent(x, y, theta0, theta1, alpha, n_iters):\n",
    "    costs, m = [0 for _ in range(n_iters)], len(x)\n",
    "    \n",
    "    costs, t1, t0 = [], [], []\n",
    "    for j in range(n_iters):\n",
    "        sumg1, sumg0 = 0, 0\n",
    "        for i in range(m):\n",
    "            sumg1 += (x[i] * theta1 + theta0 - y[i]) * x[i]\n",
    "            sumg0 += (x[i] * theta1 + theta0 - y[i])\n",
    "        theta1 = theta1 - alpha / m * sumg1\n",
    "        theta0 = theta0 - alpha / m * sumg0\n",
    "        t1.append(theta1)\n",
    "        t0.append(theta0)\n",
    "        costs.append(calculate_cost_function(x, y, theta0, theta1))\n",
    "    return costs, t1, t0"
   ]
  },
  {
   "cell_type": "code",
   "execution_count": 4,
   "metadata": {},
   "outputs": [
    {
     "name": "stdout",
     "output_type": "stream",
     "text": [
      "50.6 12.90891165048394\n"
     ]
    },
    {
     "data": {
      "text/plain": [
       "array([ 1.34790604,  0.72817913,  0.03098635, -0.58874057, -1.51833094])"
      ]
     },
     "execution_count": 4,
     "metadata": {},
     "output_type": "execute_result"
    }
   ],
   "source": [
    "x = np.array([68, 60, 51, 43, 31])\n",
    "y = np.array([37.49, 36.46, 67.28, 93.75, 140.22])\n",
    "def standardization(x):\n",
    "    m = len(y)\n",
    "    mu = np.mean(x)\n",
    "    sigma = np.std(x)\n",
    "    x = (x - mu) / sigma\n",
    "    return x"
   ]
  },
  {
   "cell_type": "code",
   "execution_count": 5,
   "metadata": {},
   "outputs": [
    {
     "data": {
      "text/plain": [
       "(41.84036162986078, -37.785524698208924, 75.03999999946141)"
      ]
     },
     "execution_count": 5,
     "metadata": {},
     "output_type": "execute_result"
    }
   ],
   "source": [
    "costs, t1, t0 = gradient_descent(x=x, y=y, theta0=1, theta1=1, alpha=0.05, n_iters=500)\n",
    "costs[-1], t1[-1], t0[-1]"
   ]
  },
  {
   "cell_type": "code",
   "execution_count": 6,
   "metadata": {},
   "outputs": [
    {
     "data": {
      "text/plain": [
       "<matplotlib.collections.PathCollection at 0x207436dd4f0>"
      ]
     },
     "execution_count": 6,
     "metadata": {},
     "output_type": "execute_result"
    },
    {
     "data": {
      "image/png": "[encoded data removed]",
      "text/plain": [
       "<Figure size 432x288 with 1 Axes>"
      ]
     },
     "metadata": {
      "needs_background": "light"
     },
     "output_type": "display_data"
    }
   ],
   "source": [
    "yy = x * t1[-1] + t0[-1]\n",
    "plt.plot(x, yy)\n",
    "plt.scatter(x, y)"
   ]
  },
  {
   "cell_type": "code",
   "execution_count": 7,
   "metadata": {},
   "outputs": [
    {
     "data": {
      "text/plain": [
       "(223.15066970550862, -2.927088334111605)"
      ]
     },
     "execution_count": 7,
     "metadata": {},
     "output_type": "execute_result"
    }
   ],
   "source": [
    "def de_standardization(theta0, theta1, x):\n",
    "    mu = np.mean(x)\n",
    "    sigma = np.std(x)\n",
    "    theta0 = t0[-1] - t1[-1] * mu / sigma\n",
    "    theta1 = t1[-1] / sigma \n",
    "    return theta0, theta1"
   ]
  },
  {
   "cell_type": "code",
   "execution_count": 8,
   "metadata": {},
   "outputs": [
    {
     "data": {
      "text/plain": [
       "[<matplotlib.lines.Line2D at 0x20743e5e640>]"
      ]
     },
     "execution_count": 8,
     "metadata": {},
     "output_type": "execute_result"
    },
    {
     "data": {
      "image/png": "[encoded data removed]",
      "text/plain": [
       "<Figure size 432x288 with 1 Axes>"
      ]
     },
     "metadata": {
      "needs_background": "light"
     },
     "output_type": "display_data"
    }
   ],
   "source": [
    "x = np.array([68, 60, 51, 43, 31])\n",
    "plt.scatter(x, y)\n",
    "plt.plot(x, theta0 + theta1 * x)"
   ]
  },
  {
   "cell_type": "code",
   "execution_count": null,
   "metadata": {},
   "outputs": [],
   "source": []
  },
  {
   "cell_type": "code",
   "execution_count": null,
   "metadata": {},
   "outputs": [],
   "source": []
  },
  {
   "cell_type": "code",
   "execution_count": null,
   "metadata": {},
   "outputs": [],
   "source": []
  },
  {
   "cell_type": "code",
   "execution_count": 13,
   "metadata": {},
   "outputs": [
    {
     "data": {
      "text/plain": [
       "<matplotlib.collections.PathCollection at 0x18f9f900550>"
      ]
     },
     "execution_count": 13,
     "metadata": {},
     "output_type": "execute_result"
    },
    {
     "data": {
      "image/png": "[encoded data removed]",
      "text/plain": [
       "<Figure size 432x288 with 1 Axes>"
      ]
     },
     "metadata": {
      "needs_background": "light"
     },
     "output_type": "display_data"
    }
   ],
   "source": [
    "import LinearRegression as lr\n",
    "import numpy as np\n",
    "import matplotlib.pyplot as plt\n",
    "\n",
    "x = np.array([68, 60, 51, 43, 31])\n",
    "y = np.array([37.49, 36.46, 67.28, 93.75, 140.22])\n",
    "\n",
    "LR = lr.LinearRegression()\n",
    "y_hat = LR.fit(x=x, y=y, theta0=1, theta1=1, n_iters=2000)\n",
    "plt.plot(x, y_hat)\n",
    "plt.scatter(x, y)"
   ]
  }
 ],
 "metadata": {
  "kernelspec": {
   "display_name": "Python 3",
   "language": "python",
   "name": "python3"
  },
  "language_info": {
   "codemirror_mode": {
    "name": "ipython",
    "version": 3
   },
   "file_extension": ".py",
   "mimetype": "text/x-python",
   "name": "python",
   "nbconvert_exporter": "python",
   "pygments_lexer": "ipython3",
   "version": "3.8.3"
  }
 },
 "nbformat": 4,
 "nbformat_minor": 4
}
