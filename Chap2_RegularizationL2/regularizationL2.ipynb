{
 "cells": [
  {
   "cell_type": "markdown",
   "metadata": {},
   "source": [
    "### regularized cost function\n",
    "$J(\\theta) = \\frac{1}{2m} \\sum_{i=1}^m(h(x^{(i)}) - y^{(i)})^2 + \\lambda \\sum_{j=1}^n \\theta_j^2$,\n",
    "\n",
    "where m is the number of examples.\n",
    "\n",
    "$h(x) = \\theta_1 x_1 + \\theta_0 x_0$, where $x_0 = 1$.\n"
   ]
  },
  {
   "cell_type": "code",
   "execution_count": null,
   "metadata": {},
   "outputs": [],
   "source": []
  },
  {
   "cell_type": "markdown",
   "metadata": {},
   "source": [
    "### Gradient Descent Algorithm\n",
    "$\\theta_0 := \\theta_0 — \\frac{\\alpha}{m} \\sum_{i=1}^m (h(x^{(i)}) - y^{(i)}) x_0^{(i)}$\n",
    "\n",
    "$\\theta_1 := \\theta_1 — \\alpha [\\frac{1}{m} \\sum_{i=1}^m (h(x^{(i)}) — y^{(i)}) x_1^{(i)} + \\frac{\\lambda}{m} \\theta_1]$\n",
    "\n",
    "The formula for $\\theta_1$ can be rephrased as:\n",
    "\n",
    "$\\theta_1 := \\theta_1 (1 — \\frac{\\alpha \\lambda}{m}) — \\frac{\\alpha}{m}  \\sum_{i=1}^m (h(x^{(i)}) — y^{(i)})x_1^{(i)} ,$"
   ]
  },
  {
   "cell_type": "code",
   "execution_count": null,
   "metadata": {},
   "outputs": [],
   "source": []
  },
  {
   "cell_type": "markdown",
   "metadata": {},
   "source": []
  }
 ],
 "metadata": {
  "kernelspec": {
   "display_name": "Python 3",
   "language": "python",
   "name": "python3"
  },
  "language_info": {
   "codemirror_mode": {
    "name": "ipython",
    "version": 3
   },
   "file_extension": ".py",
   "mimetype": "text/x-python",
   "name": "python",
   "nbconvert_exporter": "python",
   "pygments_lexer": "ipython3",
   "version": "3.8.5"
  }
 },
 "nbformat": 4,
 "nbformat_minor": 4
}
