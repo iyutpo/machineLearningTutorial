{
 "cells": [
  {
   "cell_type": "markdown",
   "metadata": {},
   "source": [
    "### Regularized Cost Function\n",
    "$J(\\theta) = \\frac{1}{2m} \\sum_{i=1}^m(h(x^{(i)}) - y^{(i)})^2 + \\lambda \\sum_{j=1}^n \\theta_j^2$,\n",
    "\n",
    "where m is the number of examples and n is the number of features. Plus the bias feature $\\theta_0$, which is not regularized, the total number of features is $n+1$. \n",
    "\n",
    "For the linear regression study, the hypothesis is\n",
    "\n",
    "$h(x) = \\theta_1 x_1 + \\theta_0 x_0$, where $x_0 = 1$.\n"
   ]
  },
  {
   "cell_type": "code",
   "execution_count": null,
   "metadata": {},
   "outputs": [],
   "source": []
  },
  {
   "cell_type": "markdown",
   "metadata": {},
   "source": [
    "### Gradient Descent Algorithm\n",
    "$\\theta_0 := \\theta_0 — \\frac{\\alpha}{m} \\sum_{i=1}^m (h(x^{(i)}) - y^{(i)}) x_0^{(i)}$\n",
    "\n",
    "$\\theta_1 := \\theta_1 — \\alpha [\\frac{1}{m} \\sum_{i=1}^m (h(x^{(i)}) — y^{(i)}) x_1^{(i)} + \\frac{\\lambda}{m} \\theta_1]$\n",
    "\n",
    "The formula for $\\theta_1$ can be rephrased as:\n",
    "\n",
    "$\\theta_1 := \\theta_1 (1 — \\frac{\\alpha \\lambda}{m}) — \\frac{\\alpha}{m}  \\sum_{i=1}^m (h(x^{(i)}) — y^{(i)})x_1^{(i)} ,$"
   ]
  },
  {
   "cell_type": "code",
   "execution_count": null,
   "metadata": {},
   "outputs": [],
   "source": []
  },
  {
   "cell_type": "markdown",
   "metadata": {},
   "source": [
    "### Normal Equation \n",
    "\n",
    "The normal equation for the regularized linear regression is:\n",
    "\n",
    "$\\Theta = (X^{T}X + \\lambda * R )^{-1} X^{T} Y$,\n",
    "\n",
    "where R is a (n+1) by (n+1) matrix where the first diagonal element and all off diagonal elements are 0 and the remaining diagonal elements are 1. $X$ is the a m by (n+1) matrix containing the training data. Y is a m by 1 matrix containing label values. "
   ]
  },
  {
   "cell_type": "code",
   "execution_count": null,
   "metadata": {},
   "outputs": [],
   "source": []
  }
 ],
 "metadata": {
  "kernelspec": {
   "display_name": "Python 3",
   "language": "python",
   "name": "python3"
  },
  "language_info": {
   "codemirror_mode": {
    "name": "ipython",
    "version": 3
   },
   "file_extension": ".py",
   "mimetype": "text/x-python",
   "name": "python",
   "nbconvert_exporter": "python",
   "pygments_lexer": "ipython3",
   "version": "3.8.5"
  }
 },
 "nbformat": 4,
 "nbformat_minor": 4
}
