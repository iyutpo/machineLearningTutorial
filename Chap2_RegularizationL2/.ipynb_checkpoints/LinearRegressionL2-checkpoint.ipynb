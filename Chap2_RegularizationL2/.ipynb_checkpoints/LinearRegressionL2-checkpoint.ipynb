{
 "cells": [
  {
   "cell_type": "code",
   "execution_count": null,
   "metadata": {},
   "outputs": [],
   "source": []
  },
  {
   "cell_type": "code",
   "execution_count": null,
   "metadata": {},
   "outputs": [],
   "source": []
  },
  {
   "cell_type": "code",
   "execution_count": 1,
   "metadata": {},
   "outputs": [],
   "source": [
    "import numpy as np\n",
    "import matplotlib.pyplot as plt"
   ]
  },
  {
   "cell_type": "code",
   "execution_count": null,
   "metadata": {},
   "outputs": [],
   "source": []
  },
  {
   "cell_type": "markdown",
   "metadata": {},
   "source": [
    "$h(x) = \\theta_0 + \\sum_{j=1}^{n}X_{j}\\theta_j$\n",
    "\n",
    "$J(\\theta) = J_0 + \\lambda \\sum_j^n \\theta_{j}^{2}$\n",
    "\n",
    "$=\\frac{1}{2m} [\\sum_{i=1}^m (\\theta_0 + \\sum_{j=1}^{n}X_{ij}\\theta_j - y_i)^2 + \\lambda \\sum_{j=1}^n \\theta_j^{2}]$\n",
    "\n",
    "$=\\frac{1}{2m} [\\sum_{i=1}^m (\\theta_0 + \\sum_{j=1}^{n}X_{ij}\\theta_j - y_i)^2 + \\lambda \\sum_{j=1}^n \\theta_j^{2}]$\n",
    ", where n is the number of features; m is data size"
   ]
  },
  {
   "cell_type": "code",
   "execution_count": 2,
   "metadata": {},
   "outputs": [],
   "source": [
    "def calculate_cost_function(x, y, theta0, theta, lamda):\n",
    "    m, n = len(x), len(x[0])\n",
    "    cost = 0\n",
    "    for i in range(m):\n",
    "        sum1, sum2 = 0, 0\n",
    "        for j in range(n):\n",
    "            sum1 += x[i][j] * theta[j]\n",
    "            sum2 += theta[j] ** 2\n",
    "        cost = cost + (theta0 + sum1 - y[i]) ** 2 + lamda * sum2\n",
    "    return 1 / 2 / m * cost"
   ]
  },
  {
   "cell_type": "markdown",
   "metadata": {},
   "source": [
    "### Gradient Descent Algorithm\n",
    "$\\theta_i := \\theta_i - \\alpha \\frac{\\partial J} { \\partial \\theta_i}$\n",
    "\n",
    "$\\theta = [\\theta_0, \\theta_1]$\n",
    "\n",
    "$J(\\theta) = \\frac{1}{2m} \\sum_{i=1}^m (h(x^{(i)}) - y^{(i)})^2$\n",
    "\n",
    "$\\theta_j  := \\theta_j - \\alpha [\\frac{1}{m} \\sum_{i=1}^{m} (\\theta_0 + \\sum_{j=1}^{n}X_{ij}\\theta_j - y_i)X_{ij} + \\frac{\\lambda}{m}\\theta_j]$\n",
    "\n",
    "$\\theta_0  := \\theta_0 - \\alpha \\frac{1}{m} \\sum_{i=1}^{m} (\\theta_0 + \\sum_{j=1}^{n}X_{ij}\\theta_j - y_i)x_0$"
   ]
  },
  {
   "cell_type": "code",
   "execution_count": 40,
   "metadata": {},
   "outputs": [],
   "source": [
    "def gradient_descent(x, y, theta0, theta, alpha, n_iters, lamda):\n",
    "    costs, m, n = [0 for _ in range(n_iters)], len(x), len(x[0])\n",
    "    for j in range(n_iters):\n",
    "        sum_gradient0, sum_gradient = 0, [0 for _ in range(n)]\n",
    "        for j in range(n):\n",
    "            for i in range(m):\n",
    "                sum_gradient[j] += (theta0 + x[i][j] * theta[j] - y[i]) * x[i][j]\n",
    "                sum_gradient0 += (theta0 + x[i][j] * theta[j] - y[i])\n",
    "            theta[j] = theta[j] - alpha / m * (sum_gradient[j] + lamda * theta[j])\n",
    "        theta0 = theta0 - alpha / m * sum_gradient0\n",
    "        costs.append(calculate_cost_function(x, y, theta0, theta, lamda))\n",
    "    return costs[-1], theta0, theta"
   ]
  },
  {
   "cell_type": "code",
   "execution_count": 41,
   "metadata": {},
   "outputs": [],
   "source": [
    "def standardization(x):\n",
    "    m, n = len(x), len(x[0])\n",
    "    mus, sigmas = [], []\n",
    "    for j in range(n):\n",
    "        mus.append(np.mean([x[i][j] for i in range(m)]))\n",
    "        sigmas.append(np.std([x[i][j] for i in range(m)]))\n",
    "\n",
    "    standardized_x = []\n",
    "    for i in range(m):\n",
    "        standardized_x.append([((x[i][j] - mus[j]) / sigmas[j]) for j in range(n)])\n",
    "    return standardized_x"
   ]
  },
  {
   "cell_type": "code",
   "execution_count": null,
   "metadata": {},
   "outputs": [],
   "source": []
  },
  {
   "cell_type": "code",
   "execution_count": 42,
   "metadata": {},
   "outputs": [],
   "source": [
    "def de_standardization(theta0, theta, x):\n",
    "    mu = np.mean(x)\n",
    "    sigma = np.std(x)\n",
    "    theta0 = theta0 - theta0 * mu / sigma\n",
    "    theta = theta / sigma\n",
    "    return theta0, theta"
   ]
  },
  {
   "cell_type": "code",
   "execution_count": 43,
   "metadata": {},
   "outputs": [],
   "source": [
    "x = [[47, 85.4, 1.75, 5.1, 63, 33],\n",
    "     [49, 94.2, 2.10, 3.8, 70, 14],\n",
    "     [49, 95.3, 1.98, 8.2, 72, 10],\n",
    "     [50, 94.7, 2.01, 5.8, 73, 99],\n",
    "     [51, 89.4, 1.89, 7.0, 72, 95],\n",
    "     [48, 99.5, 2.25, 9.3, 71, 10],\n",
    "     [49, 99.8, 2.25, 2.5, 69, 42],\n",
    "     [47, 90.9, 1.90, 6.2, 66, 8],\n",
    "     [49, 89.2, 1.83, 7.1, 69, 62],\n",
    "     [48, 92.7, 2.07, 5.6, 64, 35],\n",
    "     [47, 94.4, 2.07, 5.3, 74, 90],\n",
    "     [49, 94.1, 1.98, 5.6, 71, 21],\n",
    "     [50, 91.6, 2.05, 10.2, 68, 47],\n",
    "     [45, 87.1, 1.92, 5.6, 67, 80],\n",
    "     [52, 101.3, 2.19, 10.0, 76, 98],\n",
    "     [46, 94.5, 1.98, 7.4, 69, 95],\n",
    "     [46, 87.0, 1.87, 3.6, 62, 18],\n",
    "     [46, 94.5, 1.90, 4.3, 70, 12],\n",
    "     [48, 90.5, 1.88, 9.0, 71, 99],\n",
    "     [56, 95.7, 2.09, 7.0, 75, 99]]\n",
    "y = [105, 115, 116, 117, 112, 121, 121, 110, 110, 114, 114, 115, 114, 106, 125, 114, 106, 113, 110, 122]"
   ]
  },
  {
   "cell_type": "code",
   "execution_count": 44,
   "metadata": {},
   "outputs": [
    {
     "data": {
      "text/plain": [
       "[0, 0, 0, 0, 0, 0]"
      ]
     },
     "execution_count": 44,
     "metadata": {},
     "output_type": "execute_result"
    }
   ],
   "source": [
    "theta = [0 for i in range(len(x[0]))]\n",
    "theta"
   ]
  },
  {
   "cell_type": "code",
   "execution_count": 45,
   "metadata": {},
   "outputs": [],
   "source": [
    "standardized_x = standardization(x)"
   ]
  },
  {
   "cell_type": "code",
   "execution_count": 46,
   "metadata": {},
   "outputs": [
    {
     "name": "stdout",
     "output_type": "stream",
     "text": [
      "20 6\n"
     ]
    },
    {
     "data": {
      "text/plain": [
       "(145.71124575936446,\n",
       " 113.99999999999999,\n",
       " [2.790073795531539,\n",
       "  4.02182837615398,\n",
       "  3.6654402299813835,\n",
       "  1.2396239370542212,\n",
       "  3.0538876838292426,\n",
       "  0.6938277009498953])"
      ]
     },
     "execution_count": 46,
     "metadata": {},
     "output_type": "execute_result"
    }
   ],
   "source": [
    "print(len(standardized_x), len(standardized_x[0]))\n",
    "costs, t1, t = gradient_descent(x=standardized_x, y=y, theta0=1, theta=theta, alpha=0.05, n_iters=1000, lamda=5)\n",
    "costs, t1, t"
   ]
  },
  {
   "cell_type": "code",
   "execution_count": 47,
   "metadata": {},
   "outputs": [
    {
     "data": {
      "text/plain": [
       "(-30.97979786864211,\n",
       " array([0.07796484, 0.11238455, 0.10242577, 0.03463961, 0.08533676,\n",
       "        0.01938808]))"
      ]
     },
     "execution_count": 47,
     "metadata": {},
     "output_type": "execute_result"
    }
   ],
   "source": [
    "theta0, theta = de_standardization(theta0=t1, theta=theta, x=x)\n",
    "theta0, theta"
   ]
  },
  {
   "cell_type": "code",
   "execution_count": 48,
   "metadata": {},
   "outputs": [
    {
     "data": {
      "text/plain": [
       "Ridge(alpha=0.05)"
      ]
     },
     "execution_count": 48,
     "metadata": {},
     "output_type": "execute_result"
    }
   ],
   "source": [
    "from sklearn.linear_model import Ridge\n",
    "clf = Ridge(alpha=0.05)\n",
    "clf.fit(standardized_x, y)"
   ]
  },
  {
   "cell_type": "code",
   "execution_count": 49,
   "metadata": {},
   "outputs": [
    {
     "data": {
      "text/plain": [
       "array([ 1.69982245,  3.97796984,  0.55676739,  0.14344482, -0.26617022,\n",
       "        0.18403871])"
      ]
     },
     "execution_count": 49,
     "metadata": {},
     "output_type": "execute_result"
    }
   ],
   "source": [
    "clf.coef_"
   ]
  },
  {
   "cell_type": "code",
   "execution_count": 50,
   "metadata": {},
   "outputs": [
    {
     "data": {
      "text/plain": [
       "114.0"
      ]
     },
     "execution_count": 50,
     "metadata": {},
     "output_type": "execute_result"
    }
   ],
   "source": [
    "clf.intercept_"
   ]
  },
  {
   "cell_type": "code",
   "execution_count": null,
   "metadata": {},
   "outputs": [],
   "source": []
  },
  {
   "cell_type": "code",
   "execution_count": 58,
   "metadata": {},
   "outputs": [
    {
     "name": "stdout",
     "output_type": "stream",
     "text": [
      "[ 1.14000000e+02  1.25743281e+00  2.17154115e+00  1.48076530e+00\n",
      "  1.84516598e-01  7.13904040e-01 -9.32871221e-02]\n"
     ]
    }
   ],
   "source": [
    "### benchmark: normal equation ##\n",
    "n = len(x[0])\n",
    "m = len(x)\n",
    "R = np.identity(n+1)\n",
    "R[0,0] = 0\n",
    "standardized_x = np.array(standardized_x)\n",
    "ones  = np.ones((m, 1))\n",
    "standardized_x = np.concatenate((ones, standardized_x), 1)\n",
    "\n",
    "factor = 5\n",
    "result = np.matmul(np.matmul(np.linalg.inv(np.matmul(standardized_x.transpose(), standardized_x) + factor * R), standardized_x.transpose()),y)\n",
    "print(result)\n"
   ]
  },
  {
   "cell_type": "code",
   "execution_count": 56,
   "metadata": {},
   "outputs": [
    {
     "name": "stdout",
     "output_type": "stream",
     "text": [
      "(20, 6)\n"
     ]
    }
   ],
   "source": [
    "print(standardized_x.shape)"
   ]
  },
  {
   "cell_type": "code",
   "execution_count": 57,
   "metadata": {},
   "outputs": [
    {
     "name": "stdout",
     "output_type": "stream",
     "text": [
      "(7, 1)\n"
     ]
    }
   ],
   "source": [
    "print(ones.shape)"
   ]
  }
 ],
 "metadata": {
  "kernelspec": {
   "display_name": "Python 3",
   "language": "python",
   "name": "python3"
  },
  "language_info": {
   "codemirror_mode": {
    "name": "ipython",
    "version": 3
   },
   "file_extension": ".py",
   "mimetype": "text/x-python",
   "name": "python",
   "nbconvert_exporter": "python",
   "pygments_lexer": "ipython3",
   "version": "3.7.10"
  }
 },
 "nbformat": 4,
 "nbformat_minor": 4
}
